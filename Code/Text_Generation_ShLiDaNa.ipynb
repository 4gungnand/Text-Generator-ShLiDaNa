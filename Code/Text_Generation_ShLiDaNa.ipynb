{
  "cells": [
    {
      "cell_type": "markdown",
      "metadata": {
        "id": "bFWbEb6uGbN-"
      },
      "source": [
        "# ShLiDaNa TEXT GENERATOR v1\n",
        "\n",
        "Create a model that will predict the next word in a text sequence, implementing and training using a corpus of Different datasets, while also creating some helper functions to pre-process the data."
      ]
    },
    {
      "cell_type": "markdown",
      "metadata": {
        "id": "YgXtktW6lWWg"
      },
      "source": [
        "OUR TEAM:\n",
        "\n",
        "| Name | NIM |\n",
        "|---|---|\n",
        "|Shahran Kurnia Ramadhan|21/476650/PA/20592|\n",
        "|Muhammad Linggar Ryanidha|21/475209/PA/20548|\n",
        "|Daniel Ardi Chandra|21/479046/PA/20780|\n",
        "|I Gusti Agung Premananda |21/473829/PA/20432|"
      ]
    },
    {
      "cell_type": "code",
      "execution_count": 5,
      "metadata": {
        "id": "BOwsuGQQY9OL"
      },
      "outputs": [],
      "source": [
        "import numpy as np\n",
        "import re\n",
        "import matplotlib.pyplot as plt\n",
        "from tensorflow.keras.models import Sequential\n",
        "from tensorflow.keras.utils import to_categorical\n",
        "from tensorflow.keras.preprocessing.text import Tokenizer\n",
        "from tensorflow.keras.preprocessing.sequence import pad_sequences\n",
        "from tensorflow.keras.layers import Embedding, LSTM, Dense, Bidirectional\n",
        "\n",
        "   # Your code here\n",
        "   "
      ]
    },
    {
      "cell_type": "code",
      "execution_count": 6,
      "metadata": {},
      "outputs": [
        {
          "name": "stdout",
          "output_type": "stream",
          "text": [
            "[name: \"/device:CPU:0\"\n",
            "device_type: \"CPU\"\n",
            "memory_limit: 268435456\n",
            "locality {\n",
            "}\n",
            "incarnation: 17661933985562268098\n",
            "xla_global_id: -1\n",
            ", name: \"/device:GPU:0\"\n",
            "device_type: \"GPU\"\n",
            "memory_limit: 9920577536\n",
            "locality {\n",
            "  bus_id: 1\n",
            "  links {\n",
            "  }\n",
            "}\n",
            "incarnation: 12228607469402992773\n",
            "physical_device_desc: \"device: 0, name: NVIDIA GeForce RTX 3080, pci bus id: 0000:09:00.0, compute capability: 8.6\"\n",
            "xla_global_id: 416903419\n",
            "]\n"
          ]
        }
      ],
      "source": [
        "from tensorflow.python.client import device_lib\n",
        "print(device_lib.list_local_devices())\n"
      ]
    },
    {
      "cell_type": "code",
      "execution_count": 7,
      "metadata": {
        "colab": {
          "base_uri": "https://localhost:8080/",
          "height": 246
        },
        "id": "Pfd-nYKij5yY",
        "outputId": "05c429bb-a2e4-461a-af15-f4bdc2af2ae5"
      },
      "outputs": [
        {
          "name": "stdout",
          "output_type": "stream",
          "text": [
            "There are 5594 lines\n",
            "\n",
            "The first 5 lines look like this:\n",
            "\n",
            "@portal, valve, pc, ps3, xbox 360, 2007\n",
            "@text extracted by ayelis, source: https://www.gamefaqs.com/pc/934386-portal/faqs/50477 (accessed 05/18/2017)\n",
            "\n",
            "@[cameras]\n",
            "@[glados says this if you place a portal on the wall under a camera.]\n"
          ]
        }
      ],
      "source": [
        "# Define path for file with datasets\n",
        "dataset = '..\\Datasets\\VGCoST_VideoGameDialogue_Corpus\\ENG\\Portal_merged.txt'\n",
        "\n",
        "# Read the data\n",
        "with open(dataset, encoding='ISO-8859-1') as f:\n",
        "    data = f.read()\n",
        "\n",
        "# Remove unwanted characters using regex\n",
        "data = re.sub(r\"[\\\"']\", \"\", data)\n",
        "\n",
        "# Convert to lower case and save as a list\n",
        "corpus = data.lower().split(\"\\n\")\n",
        "\n",
        "print(f\"There are {len(corpus)} lines\\n\")\n",
        "print(f\"The first 5 lines look like this:\\n\")\n",
        "for i in range(5):\n",
        "    print(corpus[i])"
      ]
    },
    {
      "cell_type": "markdown",
      "metadata": {
        "id": "imB15zrSNhA1"
      },
      "source": [
        "## Tokenizing the text\n",
        "\n",
        "Now fit the Tokenizer to the corpus and save the total number of words."
      ]
    },
    {
      "cell_type": "code",
      "execution_count": 8,
      "metadata": {
        "id": "AAhM_qAZk0o5"
      },
      "outputs": [],
      "source": [
        "tokenizer = Tokenizer()\n",
        "tokenizer.fit_on_texts(corpus)\n",
        "total_words = len(tokenizer.word_index) + 1"
      ]
    },
    {
      "cell_type": "code",
      "execution_count": 9,
      "metadata": {
        "colab": {
          "base_uri": "https://localhost:8080/",
          "height": 35
        },
        "id": "tqhPxdeXlfjh",
        "outputId": "b4f9f834-f3bb-4420-9f22-24d66223d5be"
      },
      "outputs": [
        {
          "data": {
            "text/plain": [
              "'@portal, valve, pc, ps3, xbox 360, 2007'"
            ]
          },
          "execution_count": 9,
          "metadata": {},
          "output_type": "execute_result"
        }
      ],
      "source": [
        "corpus[0]"
      ]
    },
    {
      "cell_type": "markdown",
      "metadata": {
        "id": "XFMP4z11O3os"
      },
      "source": [
        "If you pass this text directly into the `texts_to_sequences` method you will get an unexpected result:"
      ]
    },
    {
      "cell_type": "code",
      "execution_count": 10,
      "metadata": {
        "colab": {
          "base_uri": "https://localhost:8080/"
        },
        "id": "Qmgo-vXhk4nd",
        "outputId": "521e84ac-d8b1-402e-e3d3-149f35ac8d47"
      },
      "outputs": [
        {
          "data": {
            "text/plain": [
              "[[69, 1215, 1216, 1487, 1892, 1488, 1489]]"
            ]
          },
          "execution_count": 10,
          "metadata": {},
          "output_type": "execute_result"
        }
      ],
      "source": [
        "tokenizer.texts_to_sequences([corpus[0]])"
      ]
    },
    {
      "cell_type": "code",
      "execution_count": 11,
      "metadata": {
        "colab": {
          "base_uri": "https://localhost:8080/"
        },
        "id": "kpTy8WmIQ57P",
        "outputId": "83f2d28a-62a6-47d2-d02d-d1e86247b047"
      },
      "outputs": [
        {
          "data": {
            "text/plain": [
              "[69, 1215, 1216, 1487, 1892, 1488, 1489]"
            ]
          },
          "execution_count": 11,
          "metadata": {},
          "output_type": "execute_result"
        }
      ],
      "source": [
        "tokenizer.texts_to_sequences([corpus[0]])[0]"
      ]
    },
    {
      "cell_type": "markdown",
      "metadata": {
        "id": "-oqy9KjXRJ9A"
      },
      "source": [
        "## Generating n_grams\n",
        "\n",
        "This function receives the fitted tokenizer and the corpus (which is a list of strings) and should return a list containing the `n_gram` sequences for each line in the corpus:"
      ]
    },
    {
      "cell_type": "code",
      "execution_count": 12,
      "metadata": {
        "id": "iy4baJMDl6kj"
      },
      "outputs": [],
      "source": [
        "# GRADED FUNCTION: n_gram_seqs\n",
        "def n_gram_seqs(corpus, tokenizer):\n",
        "\tinput_sequences = []\n",
        "\n",
        "\t### START CODE HERE\n",
        "\n",
        "\tfor line in corpus:\n",
        "\t\ttoken_list = tokenizer.texts_to_sequences([line])[0]\n",
        "\n",
        "\t\tfor i in range(1, len(token_list)):\n",
        "\t\t\t# Generate subphrase\n",
        "\t\t\tn_gram_sequence = token_list[:i+1]\n",
        "\t\t\t# Append subphrase to input_sequences list\n",
        "\t\t\tinput_sequences.append(n_gram_sequence)\n",
        "\n",
        "\t### END CODE HERE\n",
        "\n",
        "\treturn input_sequences"
      ]
    },
    {
      "cell_type": "code",
      "execution_count": 13,
      "metadata": {
        "colab": {
          "base_uri": "https://localhost:8080/"
        },
        "id": "DlKqW2pfM7G3",
        "outputId": "3d8cee88-cd2d-406c-b928-dcdfd3a1c4fc"
      },
      "outputs": [
        {
          "name": "stdout",
          "output_type": "stream",
          "text": [
            "n_gram sequences for first example look like this:\n",
            "\n"
          ]
        },
        {
          "data": {
            "text/plain": [
              "[[69, 1215],\n",
              " [69, 1215, 1216],\n",
              " [69, 1215, 1216, 1487],\n",
              " [69, 1215, 1216, 1487, 1892],\n",
              " [69, 1215, 1216, 1487, 1892, 1488],\n",
              " [69, 1215, 1216, 1487, 1892, 1488, 1489]]"
            ]
          },
          "execution_count": 13,
          "metadata": {},
          "output_type": "execute_result"
        }
      ],
      "source": [
        "# Test your function with one example\n",
        "first_example_sequence = n_gram_seqs([corpus[0]], tokenizer)\n",
        "\n",
        "print(\"n_gram sequences for first example look like this:\\n\")\n",
        "first_example_sequence"
      ]
    },
    {
      "cell_type": "code",
      "execution_count": 14,
      "metadata": {
        "colab": {
          "base_uri": "https://localhost:8080/"
        },
        "id": "wtPpCcBjNc4c",
        "outputId": "a16238cd-17d9-4b99-c639-82145890475f"
      },
      "outputs": [
        {
          "name": "stdout",
          "output_type": "stream",
          "text": [
            "n_gram sequences for next 3 examples look like this:\n",
            "\n"
          ]
        },
        {
          "data": {
            "text/plain": [
              "[[1893, 1894],\n",
              " [1893, 1894, 87],\n",
              " [1893, 1894, 87, 2816],\n",
              " [1893, 1894, 87, 2816, 1012],\n",
              " [1893, 1894, 87, 2816, 1012, 1895],\n",
              " [1893, 1894, 87, 2816, 1012, 1895, 1896],\n",
              " [1893, 1894, 87, 2816, 1012, 1895, 1896, 1897],\n",
              " [1893, 1894, 87, 2816, 1012, 1895, 1896, 1897, 1490],\n",
              " [1893, 1894, 87, 2816, 1012, 1895, 1896, 1897, 1490, 1216],\n",
              " [1893, 1894, 87, 2816, 1012, 1895, 1896, 1897, 1490, 1216, 2817],\n",
              " [1893, 1894, 87, 2816, 1012, 1895, 1896, 1897, 1490, 1216, 2817, 69],\n",
              " [1893, 1894, 87, 2816, 1012, 1895, 1896, 1897, 1490, 1216, 2817, 69, 1898],\n",
              " [1893,\n",
              "  1894,\n",
              "  87,\n",
              "  2816,\n",
              "  1012,\n",
              "  1895,\n",
              "  1896,\n",
              "  1897,\n",
              "  1490,\n",
              "  1216,\n",
              "  2817,\n",
              "  69,\n",
              "  1898,\n",
              "  2818],\n",
              " [1893,\n",
              "  1894,\n",
              "  87,\n",
              "  2816,\n",
              "  1012,\n",
              "  1895,\n",
              "  1896,\n",
              "  1897,\n",
              "  1490,\n",
              "  1216,\n",
              "  2817,\n",
              "  69,\n",
              "  1898,\n",
              "  2818,\n",
              "  1899],\n",
              " [1893,\n",
              "  1894,\n",
              "  87,\n",
              "  2816,\n",
              "  1012,\n",
              "  1895,\n",
              "  1896,\n",
              "  1897,\n",
              "  1490,\n",
              "  1216,\n",
              "  2817,\n",
              "  69,\n",
              "  1898,\n",
              "  2818,\n",
              "  1899,\n",
              "  1491],\n",
              " [1893,\n",
              "  1894,\n",
              "  87,\n",
              "  2816,\n",
              "  1012,\n",
              "  1895,\n",
              "  1896,\n",
              "  1897,\n",
              "  1490,\n",
              "  1216,\n",
              "  2817,\n",
              "  69,\n",
              "  1898,\n",
              "  2818,\n",
              "  1899,\n",
              "  1491,\n",
              "  1013],\n",
              " [1893,\n",
              "  1894,\n",
              "  87,\n",
              "  2816,\n",
              "  1012,\n",
              "  1895,\n",
              "  1896,\n",
              "  1897,\n",
              "  1490,\n",
              "  1216,\n",
              "  2817,\n",
              "  69,\n",
              "  1898,\n",
              "  2818,\n",
              "  1899,\n",
              "  1491,\n",
              "  1013,\n",
              "  1900]]"
            ]
          },
          "execution_count": 14,
          "metadata": {},
          "output_type": "execute_result"
        }
      ],
      "source": [
        "# Test your function with a bigger corpus\n",
        "next_3_examples_sequence = n_gram_seqs(corpus[1:4], tokenizer)\n",
        "\n",
        "print(\"n_gram sequences for next 3 examples look like this:\\n\")\n",
        "next_3_examples_sequence"
      ]
    },
    {
      "cell_type": "markdown",
      "metadata": {
        "id": "dx3V_RjFWQSu"
      },
      "source": [
        "Apply the `n_gram_seqs` transformation to the whole corpus and save the maximum sequence length to use it later:"
      ]
    },
    {
      "cell_type": "code",
      "execution_count": 15,
      "metadata": {
        "colab": {
          "base_uri": "https://localhost:8080/"
        },
        "id": "laMwiRUpmuSd",
        "outputId": "a78d5ad9-c4e0-41dd-e291-01df3fb7d0ce"
      },
      "outputs": [
        {
          "name": "stdout",
          "output_type": "stream",
          "text": [
            "n_grams of input_sequences have length: 46441\n",
            "maximum length of sequences is: 21\n"
          ]
        }
      ],
      "source": [
        "# Apply the n_gram_seqs transformation to the whole corpus\n",
        "input_sequences = n_gram_seqs(corpus, tokenizer)\n",
        "\n",
        "# Save max length\n",
        "max_sequence_len = max([len(x) for x in input_sequences])\n",
        "\n",
        "print(f\"n_grams of input_sequences have length: {len(input_sequences)}\")\n",
        "print(f\"maximum length of sequences is: {max_sequence_len}\")"
      ]
    },
    {
      "cell_type": "markdown",
      "metadata": {
        "id": "zHY7HroqWq12"
      },
      "source": [
        "## Add padding to the sequences\n",
        "\n",
        "Now code the `pad_seqs` function which will pad any given sequences to the desired maximum length. Notice that this function receives a list of sequences and should return a numpy array with the padded sequences:"
      ]
    },
    {
      "cell_type": "code",
      "execution_count": 16,
      "metadata": {
        "cellView": "code",
        "id": "WW1-qAZaWOhC"
      },
      "outputs": [],
      "source": [
        "# GRADED FUNCTION: pad_seqs\n",
        "def pad_seqs(input_sequences, maxlen):\n",
        "    ### START CODE HERE\n",
        "    padded_sequences = pad_sequences(input_sequences, maxlen=maxlen, padding='pre')\n",
        "\n",
        "    return padded_sequences\n",
        "    ### END CODE HERE"
      ]
    },
    {
      "cell_type": "code",
      "execution_count": 17,
      "metadata": {
        "colab": {
          "base_uri": "https://localhost:8080/"
        },
        "id": "IqVQ0pb3YHLr",
        "outputId": "bd451dbb-66fa-4115-90e4-d278d6cbf3b8"
      },
      "outputs": [
        {
          "data": {
            "text/plain": [
              "array([[   0,    0,    0,    0,   69, 1215],\n",
              "       [   0,    0,    0,   69, 1215, 1216],\n",
              "       [   0,    0,   69, 1215, 1216, 1487],\n",
              "       [   0,   69, 1215, 1216, 1487, 1892],\n",
              "       [  69, 1215, 1216, 1487, 1892, 1488],\n",
              "       [1215, 1216, 1487, 1892, 1488, 1489]])"
            ]
          },
          "execution_count": 17,
          "metadata": {},
          "output_type": "execute_result"
        }
      ],
      "source": [
        "# Test your function with the n_grams_seq of the first example\n",
        "first_padded_seq = pad_seqs(first_example_sequence, len(first_example_sequence))\n",
        "first_padded_seq"
      ]
    },
    {
      "cell_type": "code",
      "execution_count": 18,
      "metadata": {
        "colab": {
          "base_uri": "https://localhost:8080/"
        },
        "id": "j56_UCOBYzZt",
        "outputId": "6dca81d3-f719-4717-a799-094e411f3e52"
      },
      "outputs": [
        {
          "data": {
            "text/plain": [
              "array([[   0,    0,    0,    0,    0,    0,    0,    0,    0,    0,    0,\n",
              "           0,    0,    0,    0,    0, 1893, 1894],\n",
              "       [   0,    0,    0,    0,    0,    0,    0,    0,    0,    0,    0,\n",
              "           0,    0,    0,    0, 1893, 1894,   87],\n",
              "       [   0,    0,    0,    0,    0,    0,    0,    0,    0,    0,    0,\n",
              "           0,    0,    0, 1893, 1894,   87, 2816],\n",
              "       [   0,    0,    0,    0,    0,    0,    0,    0,    0,    0,    0,\n",
              "           0,    0, 1893, 1894,   87, 2816, 1012],\n",
              "       [   0,    0,    0,    0,    0,    0,    0,    0,    0,    0,    0,\n",
              "           0, 1893, 1894,   87, 2816, 1012, 1895],\n",
              "       [   0,    0,    0,    0,    0,    0,    0,    0,    0,    0,    0,\n",
              "        1893, 1894,   87, 2816, 1012, 1895, 1896],\n",
              "       [   0,    0,    0,    0,    0,    0,    0,    0,    0,    0, 1893,\n",
              "        1894,   87, 2816, 1012, 1895, 1896, 1897],\n",
              "       [   0,    0,    0,    0,    0,    0,    0,    0,    0, 1893, 1894,\n",
              "          87, 2816, 1012, 1895, 1896, 1897, 1490],\n",
              "       [   0,    0,    0,    0,    0,    0,    0,    0, 1893, 1894,   87,\n",
              "        2816, 1012, 1895, 1896, 1897, 1490, 1216],\n",
              "       [   0,    0,    0,    0,    0,    0,    0, 1893, 1894,   87, 2816,\n",
              "        1012, 1895, 1896, 1897, 1490, 1216, 2817],\n",
              "       [   0,    0,    0,    0,    0,    0, 1893, 1894,   87, 2816, 1012,\n",
              "        1895, 1896, 1897, 1490, 1216, 2817,   69],\n",
              "       [   0,    0,    0,    0,    0, 1893, 1894,   87, 2816, 1012, 1895,\n",
              "        1896, 1897, 1490, 1216, 2817,   69, 1898],\n",
              "       [   0,    0,    0,    0, 1893, 1894,   87, 2816, 1012, 1895, 1896,\n",
              "        1897, 1490, 1216, 2817,   69, 1898, 2818],\n",
              "       [   0,    0,    0, 1893, 1894,   87, 2816, 1012, 1895, 1896, 1897,\n",
              "        1490, 1216, 2817,   69, 1898, 2818, 1899],\n",
              "       [   0,    0, 1893, 1894,   87, 2816, 1012, 1895, 1896, 1897, 1490,\n",
              "        1216, 2817,   69, 1898, 2818, 1899, 1491],\n",
              "       [   0, 1893, 1894,   87, 2816, 1012, 1895, 1896, 1897, 1490, 1216,\n",
              "        2817,   69, 1898, 2818, 1899, 1491, 1013],\n",
              "       [1893, 1894,   87, 2816, 1012, 1895, 1896, 1897, 1490, 1216, 2817,\n",
              "          69, 1898, 2818, 1899, 1491, 1013, 1900]])"
            ]
          },
          "execution_count": 18,
          "metadata": {},
          "output_type": "execute_result"
        }
      ],
      "source": [
        "# Test your function with the n_grams_seq of the next 3 examples\n",
        "next_3_padded_seq = pad_seqs(next_3_examples_sequence, max([len(s) for s in next_3_examples_sequence]))\n",
        "next_3_padded_seq"
      ]
    },
    {
      "cell_type": "code",
      "execution_count": 19,
      "metadata": {
        "colab": {
          "base_uri": "https://localhost:8080/"
        },
        "id": "rgK-Q_micEYA",
        "outputId": "e203e4a9-9fd7-4ee3-f242-f471cf84f584"
      },
      "outputs": [
        {
          "name": "stdout",
          "output_type": "stream",
          "text": [
            "padded corpus has shape: (46441, 21)\n"
          ]
        }
      ],
      "source": [
        "# Pad the whole corpus\n",
        "input_sequences = pad_seqs(input_sequences, max_sequence_len)\n",
        "\n",
        "print(f\"padded corpus has shape: {input_sequences.shape}\")"
      ]
    },
    {
      "cell_type": "markdown",
      "metadata": {
        "id": "ZbOidyPrXxf7"
      },
      "source": [
        "## Split the data into features and labels\n",
        "\n",
        "Before feeding the data into the neural network you should split it into features and labels. In this case the features will be the padded n_gram sequences with the last word removed from them and the labels will be the removed word."
      ]
    },
    {
      "cell_type": "code",
      "execution_count": 20,
      "metadata": {
        "cellView": "code",
        "id": "9WGGbYdnZdmJ"
      },
      "outputs": [],
      "source": [
        "# GRADED FUNCTION: features_and_labels\n",
        "def features_and_labels(input_sequences, total_words):\n",
        "    ### START CODE HERE\n",
        "    features = input_sequences[:,:-1]\n",
        "    labels = input_sequences[:,-1]\n",
        "    one_hot_labels = to_categorical(labels, num_classes=total_words)\n",
        "    ### END CODE HERE\n",
        "\n",
        "    return features, one_hot_labels"
      ]
    },
    {
      "cell_type": "code",
      "execution_count": 21,
      "metadata": {
        "colab": {
          "base_uri": "https://localhost:8080/"
        },
        "id": "23DolaBRaIAZ",
        "outputId": "860e2df3-0fe8-4e68-d0f9-ba56e88b50d2"
      },
      "outputs": [
        {
          "name": "stdout",
          "output_type": "stream",
          "text": [
            "labels have shape: (6, 5843)\n",
            "\n",
            "features look like this:\n",
            "\n"
          ]
        },
        {
          "data": {
            "text/plain": [
              "array([[   0,    0,    0,    0,   69],\n",
              "       [   0,    0,    0,   69, 1215],\n",
              "       [   0,    0,   69, 1215, 1216],\n",
              "       [   0,   69, 1215, 1216, 1487],\n",
              "       [  69, 1215, 1216, 1487, 1892],\n",
              "       [1215, 1216, 1487, 1892, 1488]])"
            ]
          },
          "execution_count": 21,
          "metadata": {},
          "output_type": "execute_result"
        }
      ],
      "source": [
        "# Test your function with the padded n_grams_seq of the first example\n",
        "first_features, first_labels = features_and_labels(first_padded_seq, total_words)\n",
        "\n",
        "print(f\"labels have shape: {first_labels.shape}\")\n",
        "print(\"\\nfeatures look like this:\\n\")\n",
        "first_features"
      ]
    },
    {
      "cell_type": "code",
      "execution_count": 22,
      "metadata": {
        "colab": {
          "base_uri": "https://localhost:8080/"
        },
        "id": "GRTuLEt3bRKa",
        "outputId": "87c3a158-1bf6-4316-c8d0-05dee2a0a776"
      },
      "outputs": [
        {
          "name": "stdout",
          "output_type": "stream",
          "text": [
            "features have shape: (46441, 20)\n",
            "labels have shape: (46441, 5843)\n"
          ]
        }
      ],
      "source": [
        "# Split the whole corpus\n",
        "features, labels = features_and_labels(input_sequences, total_words)\n",
        "\n",
        "print(f\"features have shape: {features.shape}\")\n",
        "print(f\"labels have shape: {labels.shape}\")"
      ]
    },
    {
      "cell_type": "markdown",
      "metadata": {
        "id": "ltxaOCE_aU6J"
      },
      "source": [
        "## Create the model\n",
        "\n",
        "- Should implement Transformer encoder"
      ]
    },
    {
      "cell_type": "code",
      "execution_count": 23,
      "metadata": {
        "cellView": "code",
        "id": "XrE6kpJFfvRY"
      },
      "outputs": [],
      "source": [
        "# GRADED FUNCTION: create_model\n",
        "def create_model(total_words, max_sequence_len):\n",
        "\n",
        "    model = Sequential()\n",
        "    ### START CODE HERE\n",
        "    model.add(Embedding(total_words, 100, input_length=max_sequence_len-1))\n",
        "    model.add(Bidirectional(LSTM(150)))\n",
        "    model.add(Dense(total_words, activation='softmax'))\n",
        "\n",
        "    # Compile the model\n",
        "    model.compile(loss='categorical_crossentropy',\n",
        "                  optimizer='adam',\n",
        "                  metrics=['accuracy'])\n",
        "\n",
        "    ### END CODE HERE\n",
        "\n",
        "    return model"
      ]
    },
    {
      "cell_type": "code",
      "execution_count": 24,
      "metadata": {
        "colab": {
          "base_uri": "https://localhost:8080/"
        },
        "id": "0IpX_Gu_gISk",
        "outputId": "a45bdd81-0056-4dd1-fb24-16a33b87d8f7"
      },
      "outputs": [
        {
          "name": "stdout",
          "output_type": "stream",
          "text": [
            "WARNING:tensorflow:Layer lstm will not use cuDNN kernels since it doesn't meet the criteria. It will use a generic GPU kernel as fallback when running on GPU.\n",
            "WARNING:tensorflow:Layer lstm will not use cuDNN kernels since it doesn't meet the criteria. It will use a generic GPU kernel as fallback when running on GPU.\n",
            "WARNING:tensorflow:Layer lstm will not use cuDNN kernels since it doesn't meet the criteria. It will use a generic GPU kernel as fallback when running on GPU.\n",
            "Train on 46441 samples\n",
            "Epoch 1/50\n",
            "46441/46441 [==============================] - 62s 1ms/sample - loss: 6.6903 - accuracy: 0.0501\n",
            "Epoch 2/50\n",
            "46441/46441 [==============================] - 61s 1ms/sample - loss: 5.9700 - accuracy: 0.0879\n",
            "Epoch 3/50\n",
            "46441/46441 [==============================] - 61s 1ms/sample - loss: 5.4771 - accuracy: 0.1194\n",
            "Epoch 4/50\n",
            "46441/46441 [==============================] - 60s 1ms/sample - loss: 5.0549 - accuracy: 0.1436\n",
            "Epoch 5/50\n",
            "46441/46441 [==============================] - 59s 1ms/sample - loss: 4.6741 - accuracy: 0.1689\n",
            "Epoch 6/50\n",
            "46441/46441 [==============================] - 61s 1ms/sample - loss: 4.3195 - accuracy: 0.1955\n",
            "Epoch 7/50\n",
            "46441/46441 [==============================] - 56s 1ms/sample - loss: 3.9791 - accuracy: 0.2316\n",
            "Epoch 8/50\n",
            "46441/46441 [==============================] - 51s 1ms/sample - loss: 3.6563 - accuracy: 0.2776\n",
            "Epoch 9/50\n",
            "46441/46441 [==============================] - 51s 1ms/sample - loss: 3.3534 - accuracy: 0.3240\n",
            "Epoch 10/50\n",
            "46441/46441 [==============================] - 50s 1ms/sample - loss: 3.0757 - accuracy: 0.3693\n",
            "Epoch 11/50\n",
            "46441/46441 [==============================] - 51s 1ms/sample - loss: 2.8242 - accuracy: 0.4147\n",
            "Epoch 12/50\n",
            "46441/46441 [==============================] - 53s 1ms/sample - loss: 2.5970 - accuracy: 0.4556\n",
            "Epoch 13/50\n",
            "46441/46441 [==============================] - 52s 1ms/sample - loss: 2.3906 - accuracy: 0.4946\n",
            "Epoch 14/50\n",
            "46441/46441 [==============================] - 52s 1ms/sample - loss: 2.2013 - accuracy: 0.5344\n",
            "Epoch 15/50\n",
            "46441/46441 [==============================] - 51s 1ms/sample - loss: 2.0286 - accuracy: 0.5685\n",
            "Epoch 16/50\n",
            "46441/46441 [==============================] - 51s 1ms/sample - loss: 1.8717 - accuracy: 0.5998\n",
            "Epoch 17/50\n",
            "46441/46441 [==============================] - 52s 1ms/sample - loss: 1.7299 - accuracy: 0.6304\n",
            "Epoch 18/50\n",
            "46441/46441 [==============================] - 51s 1ms/sample - loss: 1.5983 - accuracy: 0.6590\n",
            "Epoch 19/50\n",
            "46441/46441 [==============================] - 54s 1ms/sample - loss: 1.4827 - accuracy: 0.6852\n",
            "Epoch 20/50\n",
            "46441/46441 [==============================] - 58s 1ms/sample - loss: 1.3731 - accuracy: 0.7100\n",
            "Epoch 21/50\n",
            "46441/46441 [==============================] - 51s 1ms/sample - loss: 1.2792 - accuracy: 0.7265\n",
            "Epoch 22/50\n",
            "46441/46441 [==============================] - 52s 1ms/sample - loss: 1.1898 - accuracy: 0.7483\n",
            "Epoch 23/50\n",
            "46441/46441 [==============================] - 51s 1ms/sample - loss: 1.1122 - accuracy: 0.7661\n",
            "Epoch 24/50\n",
            "46441/46441 [==============================] - 51s 1ms/sample - loss: 1.0443 - accuracy: 0.7797\n",
            "Epoch 25/50\n",
            "46441/46441 [==============================] - 51s 1ms/sample - loss: 0.9817 - accuracy: 0.7924\n",
            "Epoch 26/50\n",
            "46441/46441 [==============================] - 53s 1ms/sample - loss: 0.9248 - accuracy: 0.8064\n",
            "Epoch 27/50\n",
            "46441/46441 [==============================] - 59s 1ms/sample - loss: 0.8784 - accuracy: 0.8163\n",
            "Epoch 28/50\n",
            "46441/46441 [==============================] - 60s 1ms/sample - loss: 0.8354 - accuracy: 0.8242\n",
            "Epoch 29/50\n",
            "46441/46441 [==============================] - 60s 1ms/sample - loss: 0.7996 - accuracy: 0.8298\n",
            "Epoch 30/50\n",
            "46441/46441 [==============================] - 60s 1ms/sample - loss: 0.7662 - accuracy: 0.8370\n",
            "Epoch 31/50\n",
            "46441/46441 [==============================] - 60s 1ms/sample - loss: 0.7387 - accuracy: 0.8416\n",
            "Epoch 32/50\n",
            "46441/46441 [==============================] - 59s 1ms/sample - loss: 0.7124 - accuracy: 0.8452\n",
            "Epoch 33/50\n",
            "46441/46441 [==============================] - 62s 1ms/sample - loss: 0.6906 - accuracy: 0.8501\n",
            "Epoch 34/50\n",
            "46441/46441 [==============================] - 57s 1ms/sample - loss: 0.6735 - accuracy: 0.8524\n",
            "Epoch 35/50\n",
            "46441/46441 [==============================] - 54s 1ms/sample - loss: 0.6545 - accuracy: 0.8557\n",
            "Epoch 36/50\n",
            "46441/46441 [==============================] - 53s 1ms/sample - loss: 0.6463 - accuracy: 0.8558\n",
            "Epoch 37/50\n",
            "46441/46441 [==============================] - 52s 1ms/sample - loss: 0.6305 - accuracy: 0.8582\n",
            "Epoch 38/50\n",
            "46441/46441 [==============================] - 57s 1ms/sample - loss: 0.6206 - accuracy: 0.8593\n",
            "Epoch 39/50\n",
            "46441/46441 [==============================] - 60s 1ms/sample - loss: 0.6135 - accuracy: 0.8599\n",
            "Epoch 40/50\n",
            "46441/46441 [==============================] - 61s 1ms/sample - loss: 0.6030 - accuracy: 0.8609\n",
            "Epoch 41/50\n",
            "46441/46441 [==============================] - 58s 1ms/sample - loss: 0.5960 - accuracy: 0.8623\n",
            "Epoch 42/50\n",
            "46441/46441 [==============================] - 60s 1ms/sample - loss: 0.5903 - accuracy: 0.8617\n",
            "Epoch 43/50\n",
            "46441/46441 [==============================] - 60s 1ms/sample - loss: 0.5831 - accuracy: 0.8621\n",
            "Epoch 44/50\n",
            "46441/46441 [==============================] - 59s 1ms/sample - loss: 0.5785 - accuracy: 0.8640\n",
            "Epoch 45/50\n",
            "46441/46441 [==============================] - 59s 1ms/sample - loss: 0.5765 - accuracy: 0.8617\n",
            "Epoch 46/50\n",
            "46441/46441 [==============================] - 61s 1ms/sample - loss: 0.5721 - accuracy: 0.8629\n",
            "Epoch 47/50\n",
            "46441/46441 [==============================] - 59s 1ms/sample - loss: 0.5623 - accuracy: 0.8644\n",
            "Epoch 48/50\n",
            "46441/46441 [==============================] - 59s 1ms/sample - loss: 0.5607 - accuracy: 0.8643\n",
            "Epoch 49/50\n",
            "46441/46441 [==============================] - 61s 1ms/sample - loss: 0.5611 - accuracy: 0.8647\n",
            "Epoch 50/50\n",
            "46441/46441 [==============================] - 60s 1ms/sample - loss: 0.5580 - accuracy: 0.8639\n"
          ]
        }
      ],
      "source": [
        "# Get the untrained model\n",
        "import tensorflow as tf\n",
        "\n",
        "tf.compat.v1.disable_eager_execution()\n",
        "\n",
        "   # Your code here\n",
        "   \n",
        "model = create_model(total_words, max_sequence_len)\n",
        "\n",
        "# Train the model\n",
        "history = model.fit(features, labels, epochs=50, verbose=1)"
      ]
    },
    {
      "cell_type": "code",
      "execution_count": 25,
      "metadata": {
        "colab": {
          "base_uri": "https://localhost:8080/",
          "height": 545
        },
        "id": "1fXTEO3GJ282",
        "outputId": "17d8ff54-00d7-4d9b-e13d-a3dcde7c0649"
      },
      "outputs": [
        {
          "data": {
            "image/png": "[encoded data removed]",
            "text/plain": [
              "<Figure size 640x480 with 1 Axes>"
            ]
          },
          "metadata": {},
          "output_type": "display_data"
        },
        {
          "data": {
            "image/png": "[encoded data removed]",
            "text/plain": [
              "<Figure size 640x480 with 1 Axes>"
            ]
          },
          "metadata": {},
          "output_type": "display_data"
        }
      ],
      "source": [
        "# Take a look at the training curves of your model\n",
        "\n",
        "acc = history.history['accuracy']\n",
        "loss = history.history['loss']\n",
        "\n",
        "epochs = range(len(acc))\n",
        "\n",
        "plt.plot(epochs, acc, 'b', label='Training accuracy')\n",
        "plt.title('Training accuracy')\n",
        "\n",
        "plt.figure()\n",
        "\n",
        "plt.plot(epochs, loss, 'b', label='Training Loss')\n",
        "plt.title('Training loss')\n",
        "plt.legend()\n",
        "\n",
        "plt.show()"
      ]
    },
    {
      "cell_type": "markdown",
      "metadata": {
        "id": "OjvED5A3qrn2"
      },
      "source": [
        "Download the `history.pkl` file which contains the information of the training history of your model and will be used to compute your grade. You can download this file by running the cell below:"
      ]
    },
    {
      "cell_type": "code",
      "execution_count": 26,
      "metadata": {
        "colab": {
          "base_uri": "https://localhost:8080/",
          "height": 17
        },
        "id": "9QRG73l6qE-c",
        "outputId": "5808f386-2870-4b1b-edca-c7ff33496fe3"
      },
      "outputs": [
        {
          "ename": "ModuleNotFoundError",
          "evalue": "No module named 'google.colab'",
          "output_type": "error",
          "traceback": [
            "\u001b[1;31m---------------------------------------------------------------------------\u001b[0m",
            "\u001b[1;31mModuleNotFoundError\u001b[0m                       Traceback (most recent call last)",
            "\u001b[1;32mc:\\Users\\User\\main\\College\\sem5\\Text-Generator-ShLiDaNa\\Code\\Text_Generation_ShLiDaNa.ipynb Cell 32\u001b[0m line \u001b[0;36m1\n\u001b[0;32m      <a href='vscode-notebook-cell:/c%3A/Users/User/main/College/sem5/Text-Generator-ShLiDaNa/Code/Text_Generation_ShLiDaNa.ipynb#X43sZmlsZQ%3D%3D?line=5'>6</a>\u001b[0m     pickle\u001b[39m.\u001b[39mdump(history\u001b[39m.\u001b[39mhistory, f)\n\u001b[0;32m      <a href='vscode-notebook-cell:/c%3A/Users/User/main/College/sem5/Text-Generator-ShLiDaNa/Code/Text_Generation_ShLiDaNa.ipynb#X43sZmlsZQ%3D%3D?line=7'>8</a>\u001b[0m   files\u001b[39m.\u001b[39mdownload(\u001b[39m'\u001b[39m\u001b[39mhistory.pkl\u001b[39m\u001b[39m'\u001b[39m)\n\u001b[1;32m---> <a href='vscode-notebook-cell:/c%3A/Users/User/main/College/sem5/Text-Generator-ShLiDaNa/Code/Text_Generation_ShLiDaNa.ipynb#X43sZmlsZQ%3D%3D?line=9'>10</a>\u001b[0m download_history()\n",
            "\u001b[1;32mc:\\Users\\User\\main\\College\\sem5\\Text-Generator-ShLiDaNa\\Code\\Text_Generation_ShLiDaNa.ipynb Cell 32\u001b[0m line \u001b[0;36m3\n\u001b[0;32m      <a href='vscode-notebook-cell:/c%3A/Users/User/main/College/sem5/Text-Generator-ShLiDaNa/Code/Text_Generation_ShLiDaNa.ipynb#X43sZmlsZQ%3D%3D?line=0'>1</a>\u001b[0m \u001b[39mdef\u001b[39;00m \u001b[39mdownload_history\u001b[39m():\n\u001b[0;32m      <a href='vscode-notebook-cell:/c%3A/Users/User/main/College/sem5/Text-Generator-ShLiDaNa/Code/Text_Generation_ShLiDaNa.ipynb#X43sZmlsZQ%3D%3D?line=1'>2</a>\u001b[0m   \u001b[39mimport\u001b[39;00m \u001b[39mpickle\u001b[39;00m\n\u001b[1;32m----> <a href='vscode-notebook-cell:/c%3A/Users/User/main/College/sem5/Text-Generator-ShLiDaNa/Code/Text_Generation_ShLiDaNa.ipynb#X43sZmlsZQ%3D%3D?line=2'>3</a>\u001b[0m   \u001b[39mfrom\u001b[39;00m \u001b[39mgoogle\u001b[39;00m\u001b[39m.\u001b[39;00m\u001b[39mcolab\u001b[39;00m \u001b[39mimport\u001b[39;00m files\n\u001b[0;32m      <a href='vscode-notebook-cell:/c%3A/Users/User/main/College/sem5/Text-Generator-ShLiDaNa/Code/Text_Generation_ShLiDaNa.ipynb#X43sZmlsZQ%3D%3D?line=4'>5</a>\u001b[0m   \u001b[39mwith\u001b[39;00m \u001b[39mopen\u001b[39m(\u001b[39m'\u001b[39m\u001b[39mhistory.pkl\u001b[39m\u001b[39m'\u001b[39m, \u001b[39m'\u001b[39m\u001b[39mwb\u001b[39m\u001b[39m'\u001b[39m) \u001b[39mas\u001b[39;00m f:\n\u001b[0;32m      <a href='vscode-notebook-cell:/c%3A/Users/User/main/College/sem5/Text-Generator-ShLiDaNa/Code/Text_Generation_ShLiDaNa.ipynb#X43sZmlsZQ%3D%3D?line=5'>6</a>\u001b[0m     pickle\u001b[39m.\u001b[39mdump(history\u001b[39m.\u001b[39mhistory, f)\n",
            "\u001b[1;31mModuleNotFoundError\u001b[0m: No module named 'google.colab'"
          ]
        }
      ],
      "source": [
        "def download_history():\n",
        "  import pickle\n",
        "  from google.colab import files\n",
        "\n",
        "  with open('history.pkl', 'wb') as f:\n",
        "    pickle.dump(history.history, f)\n",
        "\n",
        "  files.download('history.pkl')\n",
        "\n",
        "download_history()"
      ]
    },
    {
      "cell_type": "markdown",
      "metadata": {
        "id": "wdsMszk9zBs_"
      },
      "source": [
        "## See our model in action\n",
        "\n",
        "After all our work it is finally time to see our model generating text.\n",
        "\n",
        "Run the cell below to generate the next 100 words of a seed text."
      ]
    },
    {
      "cell_type": "code",
      "execution_count": 31,
      "metadata": {
        "colab": {
          "base_uri": "https://localhost:8080/"
        },
        "id": "6Vc6PHgxa6Hm",
        "outputId": "7c4fe60f-e76a-4f37-dd3b-e15492973d6c"
      },
      "outputs": [
        {
          "name": "stdout",
          "output_type": "stream",
          "text": [
            "Here we are. The Incinerator Room on the robot arm is which we added the other to maps to be a lot of maps to be\n"
          ]
        }
      ],
      "source": [
        "seed_text = \"Here we are. The Incinerator Room\"\n",
        "next_words = 20\n",
        "\n",
        "for _ in range(next_words):\n",
        "\t# Convert the text into sequences\n",
        "\ttoken_list = tokenizer.texts_to_sequences([seed_text])[0]\n",
        "\t# Pad the sequences\n",
        "\ttoken_list = pad_sequences([token_list], maxlen=max_sequence_len-1, padding='pre')\n",
        "\t# Get the probabilities of predicting a word\n",
        "\tpredicted = model.predict(token_list, verbose=0)\n",
        "\t# Choose the next word based on the maximum probability\n",
        "\tpredicted = np.argmax(predicted, axis=-1).item()\n",
        "\t# Get the actual word from the word index\n",
        "\toutput_word = tokenizer.index_word[predicted]\n",
        "\t# Append to the current text\n",
        "\tseed_text += \" \" + output_word\n",
        "\n",
        "print(seed_text)"
      ]
    }
  ],
  "metadata": {
    "accelerator": "GPU",
    "colab": {
      "provenance": []
    },
    "jupytext": {
      "main_language": "python"
    },
    "kernelspec": {
      "display_name": "Python 3",
      "name": "python3"
    },
    "language_info": {
      "codemirror_mode": {
        "name": "ipython",
        "version": 3
      },
      "file_extension": ".py",
      "mimetype": "text/x-python",
      "name": "python",
      "nbconvert_exporter": "python",
      "pygments_lexer": "ipython3",
      "version": "3.10.9"
    }
  },
  "nbformat": 4,
  "nbformat_minor": 0
}
