{
  "cells": [
    {
      "cell_type": "markdown",
      "metadata": {
        "id": "bFWbEb6uGbN-"
      },
      "source": [
        "# ShLiDaNa TEXT GENERATOR v1\n",
        "\n",
        "Create a model that will predict the next word in a text sequence, implementing and training using a corpus of Different datasets, while also creating some helper functions to pre-process the data."
      ]
    },
    {
      "cell_type": "markdown",
      "metadata": {
        "id": "YgXtktW6lWWg"
      },
      "source": [
        "OUR TEAM:\n",
        "\n",
        "| Name | NIM |\n",
        "|---|---|\n",
        "|Shahran Kurnia Ramadhan|21/476650/PA/20592|\n",
        "|Muhammad Linggar Ryanidha|21/475209/PA/20548|\n",
        "|Daniel Ardi Chandra|21/479046/PA/20780|\n",
        "|I Gusti Agung Premananda |21/473829/PA/20432|"
      ]
    },
    {
      "cell_type": "code",
      "execution_count": 106,
      "metadata": {
        "id": "BOwsuGQQY9OL"
      },
      "outputs": [],
      "source": [
        "import numpy as np\n",
        "import re\n",
        "import matplotlib.pyplot as plt\n",
        "from tensorflow.keras.models import Sequential\n",
        "from tensorflow.keras.utils import to_categorical\n",
        "from tensorflow.keras.preprocessing.text import Tokenizer\n",
        "from tensorflow.keras.preprocessing.sequence import pad_sequences\n",
        "from tensorflow.keras.layers import Embedding, LSTM, Dense, Bidirectional\n",
        "\n",
        "   # Your code here\n",
        "   "
      ]
    },
    {
      "cell_type": "code",
      "execution_count": 107,
      "metadata": {},
      "outputs": [
        {
          "name": "stdout",
          "output_type": "stream",
          "text": [
            "[name: \"/device:CPU:0\"\n",
            "device_type: \"CPU\"\n",
            "memory_limit: 268435456\n",
            "locality {\n",
            "}\n",
            "incarnation: 18367074486927605212\n",
            "xla_global_id: -1\n",
            "]\n"
          ]
        }
      ],
      "source": [
        "from tensorflow.python.client import device_lib\n",
        "print(device_lib.list_local_devices())\n"
      ]
    },
    {
      "cell_type": "code",
      "execution_count": 108,
      "metadata": {
        "colab": {
          "base_uri": "https://localhost:8080/",
          "height": 246
        },
        "id": "Pfd-nYKij5yY",
        "outputId": "05c429bb-a2e4-461a-af15-f4bdc2af2ae5"
      },
      "outputs": [
        {
          "name": "stdout",
          "output_type": "stream",
          "text": [
            "There are 5591 lines\n",
            "\n",
            "The first 5 lines look like this:\n",
            "\n",
            "@[cameras]\n",
            "@[glados says this if you place a portal on the wall under a camera.]\n",
            "to ensure the safe performance of all authorized activities, do not destroy \n",
            "vital testing apparatus.\n",
            "for your own safety, do not destroy vital testing apparatus.\n"
          ]
        }
      ],
      "source": [
        "# Define path for file with datasets\n",
        "dataset = '..\\Datasets\\VGCoST_VideoGameDialogue_Corpus\\ENG\\Portal_merged.txt'\n",
        "\n",
        "# Read the data\n",
        "with open(dataset, encoding='ISO-8859-1') as f:\n",
        "    data = f.read()\n",
        "\n",
        "# Remove unwanted characters using regex\n",
        "data = re.sub(r\"[\\\"']\", \"\", data)\n",
        "\n",
        "# Convert to lower case and save as a list\n",
        "corpus_full = data.lower().split(\"\\n\")\n",
        "\n",
        "print(f\"There are {len(corpus_full)} lines\\n\")\n",
        "print(f\"The first 5 lines look like this:\\n\")\n",
        "for i in range(5):\n",
        "    print(corpus_full[i])"
      ]
    },
    {
      "cell_type": "markdown",
      "metadata": {
        "id": "imB15zrSNhA1"
      },
      "source": [
        "## Tokenizing the text\n",
        "\n",
        "Now fit the Tokenizer to the corpus and save the total number of words."
      ]
    },
    {
      "cell_type": "code",
      "execution_count": 147,
      "metadata": {},
      "outputs": [
        {
          "name": "stdout",
          "output_type": "stream",
          "text": [
            "500\n"
          ]
        }
      ],
      "source": [
        "# TESTING ONLY\n",
        "corpus = corpus_full[:500]\n",
        "print(len(corpus))"
      ]
    },
    {
      "cell_type": "code",
      "execution_count": 148,
      "metadata": {},
      "outputs": [
        {
          "data": {
            "text/plain": [
              "['@[cameras]',\n",
              " '@[glados says this if you place a portal on the wall under a camera.]',\n",
              " 'to ensure the safe performance of all authorized activities, do not destroy ',\n",
              " 'vital testing apparatus.',\n",
              " 'for your own safety, do not destroy vital testing apparatus.']"
            ]
          },
          "execution_count": 148,
          "metadata": {},
          "output_type": "execute_result"
        }
      ],
      "source": [
        "corpus[:5]"
      ]
    },
    {
      "cell_type": "code",
      "execution_count": 149,
      "metadata": {},
      "outputs": [],
      "source": [
        "# Remove symbols\n",
        "symbols = ['.', ',', '!', '?', '(', ')', ':', ';', '-', '...', '@', '[', ']']\n",
        "for i in range(len(corpus)):\n",
        "    for symbol in symbols:\n",
        "        corpus[i] = corpus[i].replace(symbol, '')"
      ]
    },
    {
      "cell_type": "code",
      "execution_count": 150,
      "metadata": {
        "id": "AAhM_qAZk0o5"
      },
      "outputs": [],
      "source": [
        "tokenizer = Tokenizer()\n",
        "tokenizer.fit_on_texts(corpus)\n",
        "total_words = len(tokenizer.word_index) + 1"
      ]
    },
    {
      "cell_type": "code",
      "execution_count": 151,
      "metadata": {
        "colab": {
          "base_uri": "https://localhost:8080/",
          "height": 35
        },
        "id": "tqhPxdeXlfjh",
        "outputId": "b4f9f834-f3bb-4420-9f22-24d66223d5be"
      },
      "outputs": [
        {
          "data": {
            "text/plain": [
              "['cameras',\n",
              " 'glados says this if you place a portal on the wall under a camera',\n",
              " 'to ensure the safe performance of all authorized activities do not destroy ',\n",
              " 'vital testing apparatus',\n",
              " 'for your own safety do not destroy vital testing apparatus']"
            ]
          },
          "execution_count": 151,
          "metadata": {},
          "output_type": "execute_result"
        }
      ],
      "source": [
        "corpus[:5]"
      ]
    },
    {
      "cell_type": "markdown",
      "metadata": {
        "id": "-oqy9KjXRJ9A"
      },
      "source": [
        "## Generating n_grams"
      ]
    },
    {
      "cell_type": "code",
      "execution_count": 130,
      "metadata": {
        "id": "iy4baJMDl6kj"
      },
      "outputs": [],
      "source": [
        "# GRADED FUNCTION: n_gram_seqs\n",
        "def n_gram_seqs(corpus, tokenizer):\n",
        "\tinput_sequences = []\n",
        "\n",
        "\t### START CODE HERE\n",
        "\n",
        "\tfor line in corpus:\n",
        "\t\ttoken_list = tokenizer.texts_to_sequences([line])[0]\n",
        "\n",
        "\t\tfor i in range(1, len(token_list)):\n",
        "\t\t\t# Generate subphrase\n",
        "\t\t\tn_gram_sequence = token_list[:i+1]\n",
        "\t\t\t# Append subphrase to input_sequences list\n",
        "\t\t\tinput_sequences.append(n_gram_sequence)\n",
        "\n",
        "\t### END CODE HERE\n",
        "\n",
        "\treturn input_sequences"
      ]
    },
    {
      "cell_type": "code",
      "execution_count": 131,
      "metadata": {
        "colab": {
          "base_uri": "https://localhost:8080/"
        },
        "id": "DlKqW2pfM7G3",
        "outputId": "3d8cee88-cd2d-406c-b928-dcdfd3a1c4fc"
      },
      "outputs": [
        {
          "name": "stdout",
          "output_type": "stream",
          "text": [
            "n_gram sequences for first example look like this:\n",
            "\n"
          ]
        },
        {
          "data": {
            "text/plain": [
              "[]"
            ]
          },
          "execution_count": 131,
          "metadata": {},
          "output_type": "execute_result"
        }
      ],
      "source": [
        "# Test your function with one example\n",
        "first_example_sequence = n_gram_seqs([corpus[0]], tokenizer)\n",
        "\n",
        "print(\"n_gram sequences for first example look like this:\\n\")\n",
        "first_example_sequence"
      ]
    },
    {
      "cell_type": "code",
      "execution_count": 132,
      "metadata": {
        "colab": {
          "base_uri": "https://localhost:8080/"
        },
        "id": "wtPpCcBjNc4c",
        "outputId": "a16238cd-17d9-4b99-c639-82145890475f"
      },
      "outputs": [
        {
          "name": "stdout",
          "output_type": "stream",
          "text": [
            "n_gram sequences for next 3 examples look like this:\n",
            "\n"
          ]
        },
        {
          "data": {
            "text/plain": [
              "[[167, 99],\n",
              " [167, 99, 11],\n",
              " [167, 99, 11, 29],\n",
              " [167, 99, 11, 29, 2],\n",
              " [167, 99, 11, 29, 2, 84],\n",
              " [167, 99, 11, 29, 2, 84, 6],\n",
              " [167, 99, 11, 29, 2, 84, 6, 131],\n",
              " [167, 99, 11, 29, 2, 84, 6, 131, 37],\n",
              " [167, 99, 11, 29, 2, 84, 6, 131, 37, 1],\n",
              " [167, 99, 11, 29, 2, 84, 6, 131, 37, 1, 380],\n",
              " [167, 99, 11, 29, 2, 84, 6, 131, 37, 1, 380, 168],\n",
              " [167, 99, 11, 29, 2, 84, 6, 131, 37, 1, 380, 168, 6],\n",
              " [167, 99, 11, 29, 2, 84, 6, 131, 37, 1, 380, 168, 6, 381],\n",
              " [3, 234],\n",
              " [3, 234, 1],\n",
              " [3, 234, 1, 109],\n",
              " [3, 234, 1, 109, 235],\n",
              " [3, 234, 1, 109, 235, 4],\n",
              " [3, 234, 1, 109, 235, 4, 30],\n",
              " [3, 234, 1, 109, 235, 4, 30, 236],\n",
              " [3, 234, 1, 109, 235, 4, 30, 236, 169],\n",
              " [3, 234, 1, 109, 235, 4, 30, 236, 169, 31],\n",
              " [3, 234, 1, 109, 235, 4, 30, 236, 169, 31, 19],\n",
              " [3, 234, 1, 109, 235, 4, 30, 236, 169, 31, 19, 110],\n",
              " [63, 24],\n",
              " [63, 24, 74]]"
            ]
          },
          "execution_count": 132,
          "metadata": {},
          "output_type": "execute_result"
        }
      ],
      "source": [
        "# Test your function with a bigger corpus\n",
        "next_3_examples_sequence = n_gram_seqs(corpus[1:4], tokenizer)\n",
        "\n",
        "print(\"n_gram sequences for next 3 examples look like this:\\n\")\n",
        "next_3_examples_sequence"
      ]
    },
    {
      "cell_type": "markdown",
      "metadata": {
        "id": "dx3V_RjFWQSu"
      },
      "source": [
        "Apply the `n_gram_seqs` transformation to the whole corpus and save the maximum sequence length to use it later:"
      ]
    },
    {
      "cell_type": "code",
      "execution_count": 133,
      "metadata": {
        "colab": {
          "base_uri": "https://localhost:8080/"
        },
        "id": "laMwiRUpmuSd",
        "outputId": "a78d5ad9-c4e0-41dd-e291-01df3fb7d0ce"
      },
      "outputs": [
        {
          "name": "stdout",
          "output_type": "stream",
          "text": [
            "n_grams of input_sequences have length: 2974\n",
            "maximum length of sequences is: 18\n"
          ]
        }
      ],
      "source": [
        "# Apply the n_gram_seqs transformation to the whole corpus\n",
        "input_sequences = n_gram_seqs(corpus, tokenizer)\n",
        "\n",
        "# Save max length\n",
        "max_sequence_len = max([len(x) for x in input_sequences])\n",
        "\n",
        "print(f\"n_grams of input_sequences have length: {len(input_sequences)}\")\n",
        "print(f\"maximum length of sequences is: {max_sequence_len}\")"
      ]
    },
    {
      "cell_type": "markdown",
      "metadata": {
        "id": "zHY7HroqWq12"
      },
      "source": [
        "## Add padding to the sequences\n",
        "\n",
        "Now code the `pad_seqs` function which will pad any given sequences to the desired maximum length. Notice that this function receives a list of sequences and should return a numpy array with the padded sequences:"
      ]
    },
    {
      "cell_type": "code",
      "execution_count": 134,
      "metadata": {
        "cellView": "code",
        "id": "WW1-qAZaWOhC"
      },
      "outputs": [],
      "source": [
        "# GRADED FUNCTION: pad_seqs\n",
        "def pad_seqs(input_sequences, maxlen):\n",
        "    ### START CODE HERE\n",
        "    padded_sequences = pad_sequences(input_sequences, maxlen=maxlen, padding='pre')\n",
        "\n",
        "    return padded_sequences\n",
        "    ### END CODE HERE"
      ]
    },
    {
      "cell_type": "code",
      "execution_count": 135,
      "metadata": {
        "colab": {
          "base_uri": "https://localhost:8080/"
        },
        "id": "rgK-Q_micEYA",
        "outputId": "e203e4a9-9fd7-4ee3-f242-f471cf84f584"
      },
      "outputs": [
        {
          "name": "stdout",
          "output_type": "stream",
          "text": [
            "padded corpus has shape: (2974, 18)\n"
          ]
        }
      ],
      "source": [
        "# Pad the whole corpus\n",
        "input_sequences = pad_seqs(input_sequences, max_sequence_len)\n",
        "\n",
        "print(f\"padded corpus has shape: {input_sequences.shape}\")"
      ]
    },
    {
      "cell_type": "markdown",
      "metadata": {
        "id": "ZbOidyPrXxf7"
      },
      "source": [
        "## Split the data into features and labels\n",
        "\n",
        "Before feeding the data into the neural network you should split it into features and labels. In this case the features will be the padded n_gram sequences with the last word removed from them and the labels will be the removed word."
      ]
    },
    {
      "cell_type": "code",
      "execution_count": 136,
      "metadata": {
        "cellView": "code",
        "id": "9WGGbYdnZdmJ"
      },
      "outputs": [],
      "source": [
        "# GRADED FUNCTION: features_and_labels\n",
        "def features_and_labels(input_sequences, total_words):\n",
        "    ### START CODE HERE\n",
        "    features = input_sequences[:,:-1]\n",
        "    labels = input_sequences[:,-1]\n",
        "    one_hot_labels = to_categorical(labels, num_classes=total_words)\n",
        "    ### END CODE HERE\n",
        "\n",
        "    return features, one_hot_labels"
      ]
    },
    {
      "cell_type": "code",
      "execution_count": 137,
      "metadata": {
        "colab": {
          "base_uri": "https://localhost:8080/"
        },
        "id": "GRTuLEt3bRKa",
        "outputId": "87c3a158-1bf6-4316-c8d0-05dee2a0a776"
      },
      "outputs": [
        {
          "name": "stdout",
          "output_type": "stream",
          "text": [
            "features have shape: (2974, 17)\n",
            "labels have shape: (2974, 980)\n"
          ]
        }
      ],
      "source": [
        "# Split the whole corpus\n",
        "features, labels = features_and_labels(input_sequences, total_words)\n",
        "\n",
        "print(f\"features have shape: {features.shape}\")\n",
        "print(f\"labels have shape: {labels.shape}\")"
      ]
    },
    {
      "cell_type": "code",
      "execution_count": 138,
      "metadata": {},
      "outputs": [],
      "source": [
        "from sklearn.model_selection import train_test_split\n",
        "\n",
        "# TRAIN, VAL, TEST: 80/10/10\n",
        "\n",
        "# Split the data into training and testing sets\n",
        "X_train, X_test, y_train, y_test = train_test_split(features, labels, test_size=0.2, random_state=42)\n",
        "\n",
        "# Further split the training set into training and validation sets\n",
        "X_train, X_val, y_train, y_val = train_test_split(X_train, y_train, test_size=0.1, random_state=42)"
      ]
    },
    {
      "cell_type": "markdown",
      "metadata": {
        "id": "ltxaOCE_aU6J"
      },
      "source": [
        "## Create the model\n",
        "\n",
        "Using 1 layer of LSTM with bidirectional architecture and 150 neurons."
      ]
    },
    {
      "cell_type": "code",
      "execution_count": 139,
      "metadata": {
        "cellView": "code",
        "id": "XrE6kpJFfvRY"
      },
      "outputs": [],
      "source": [
        "# GRADED FUNCTION: create_model\n",
        "def create_model(total_words, max_sequence_len):\n",
        "\n",
        "    model = Sequential()\n",
        "    ### START CODE HERE\n",
        "    model.add(Embedding(total_words, 100, input_length=max_sequence_len-1))\n",
        "    model.add(Bidirectional(LSTM(150)))\n",
        "    model.add(Dense(total_words, activation='softmax'))\n",
        "\n",
        "    # Compile the model\n",
        "    model.compile(loss='categorical_crossentropy',\n",
        "                  optimizer='adam',\n",
        "                  metrics=['accuracy'])\n",
        "\n",
        "    ### END CODE HERE\n",
        "\n",
        "    return model"
      ]
    },
    {
      "cell_type": "code",
      "execution_count": 141,
      "metadata": {
        "colab": {
          "base_uri": "https://localhost:8080/"
        },
        "id": "0IpX_Gu_gISk",
        "outputId": "a45bdd81-0056-4dd1-fb24-16a33b87d8f7"
      },
      "outputs": [
        {
          "name": "stdout",
          "output_type": "stream",
          "text": [
            "Train on 2141 samples, validate on 238 samples\n",
            "Epoch 1/10\n",
            "2141/2141 [==============================] - 8s 4ms/sample - loss: 6.3302 - accuracy: 0.0383 - val_loss: 6.2230 - val_accuracy: 0.0168\n",
            "Epoch 2/10\n",
            "2141/2141 [==============================] - 5s 2ms/sample - loss: 5.8171 - accuracy: 0.0453 - val_loss: 6.3621 - val_accuracy: 0.0462\n",
            "Epoch 3/10\n",
            "2141/2141 [==============================] - 5s 3ms/sample - loss: 5.7441 - accuracy: 0.0542 - val_loss: 6.5009 - val_accuracy: 0.0168\n",
            "Epoch 4/10\n",
            "2141/2141 [==============================] - 6s 3ms/sample - loss: 5.6735 - accuracy: 0.0532 - val_loss: 6.5119 - val_accuracy: 0.0462\n",
            "Epoch 5/10\n",
            "2141/2141 [==============================] - 7s 3ms/sample - loss: 5.5525 - accuracy: 0.0617 - val_loss: 6.4773 - val_accuracy: 0.0504\n",
            "Epoch 6/10\n",
            "2141/2141 [==============================] - 6s 3ms/sample - loss: 5.3623 - accuracy: 0.0743 - val_loss: 6.5405 - val_accuracy: 0.0588\n",
            "Epoch 7/10\n",
            "2141/2141 [==============================] - 5s 2ms/sample - loss: 5.0741 - accuracy: 0.0873 - val_loss: 6.7191 - val_accuracy: 0.0756\n",
            "Epoch 8/10\n",
            "2141/2141 [==============================] - 5s 3ms/sample - loss: 4.7376 - accuracy: 0.1238 - val_loss: 6.8348 - val_accuracy: 0.0714\n",
            "Epoch 9/10\n",
            "2141/2141 [==============================] - 5s 3ms/sample - loss: 4.3661 - accuracy: 0.1527 - val_loss: 6.7567 - val_accuracy: 0.1008\n",
            "Epoch 10/10\n",
            "2141/2141 [==============================] - 6s 3ms/sample - loss: 3.9879 - accuracy: 0.2078 - val_loss: 7.0470 - val_accuracy: 0.1008\n"
          ]
        }
      ],
      "source": [
        "# Get the untrained model\n",
        "import tensorflow as tf\n",
        "\n",
        "tf.compat.v1.disable_eager_execution()\n",
        "\n",
        "   # Your code here\n",
        "   \n",
        "model = create_model(total_words, max_sequence_len)\n",
        "\n",
        "# Train the model\n",
        "history = model.fit(X_train, y_train, epochs=10, verbose=1, validation_data=(X_val, y_val))"
      ]
    },
    {
      "cell_type": "code",
      "execution_count": 142,
      "metadata": {},
      "outputs": [
        {
          "name": "stdout",
          "output_type": "stream",
          "text": [
            "Evaluation Loss: 6.772410682069153, Evaluation Accuracy: 0.10420168191194534\n"
          ]
        }
      ],
      "source": [
        "# Evaluate the model on the testing set\n",
        "eval_loss, eval_accuracy = model.evaluate(X_test, y_test)\n",
        "print(f\"Evaluation Loss: {eval_loss}, Evaluation Accuracy: {eval_accuracy}\")"
      ]
    },
    {
      "cell_type": "code",
      "execution_count": 143,
      "metadata": {
        "colab": {
          "base_uri": "https://localhost:8080/",
          "height": 545
        },
        "id": "1fXTEO3GJ282",
        "outputId": "17d8ff54-00d7-4d9b-e13d-a3dcde7c0649"
      },
      "outputs": [
        {
          "data": {
            "image/png": "[encoded data removed]",
            "text/plain": [
              "<Figure size 640x480 with 1 Axes>"
            ]
          },
          "metadata": {},
          "output_type": "display_data"
        }
      ],
      "source": [
        "# Visualize training history\n",
        "plt.plot(history.history['accuracy'])\n",
        "plt.plot(history.history['val_accuracy'])\n",
        "plt.title('Model Accuracy')\n",
        "plt.xlabel('Epoch')\n",
        "plt.ylabel('Accuracy')\n",
        "plt.legend(['Train', 'Test'], loc='upper left')\n",
        "plt.show()"
      ]
    },
    {
      "cell_type": "markdown",
      "metadata": {
        "id": "OjvED5A3qrn2"
      },
      "source": [
        "Download the `history.pkl` file which contains the information of the training history of your model and will be used to compute your grade. You can download this file by running the cell below:"
      ]
    },
    {
      "cell_type": "markdown",
      "metadata": {
        "id": "wdsMszk9zBs_"
      },
      "source": [
        "## See our model in action\n",
        "\n",
        "After all our work it is finally time to see our model generating text.\n",
        "\n",
        "Run the cell below to generate the next 100 words of a seed text."
      ]
    },
    {
      "cell_type": "code",
      "execution_count": 145,
      "metadata": {
        "colab": {
          "base_uri": "https://localhost:8080/"
        },
        "id": "6Vc6PHgxa6Hm",
        "outputId": "7c4fe60f-e76a-4f37-dd3b-e15492973d6c"
      },
      "outputs": [
        {
          "name": "stdout",
          "output_type": "stream",
          "text": [
            "please do not the weighted companion cube cube the enrichment center the enrichment center reminds you the enrichment center reminds you the enrichment\n"
          ]
        }
      ],
      "source": [
        "seed_text = \"please do not\"\n",
        "next_words = 20\n",
        "\n",
        "for _ in range(next_words):\n",
        "\t# Convert the text into sequences\n",
        "\ttoken_list = tokenizer.texts_to_sequences([seed_text])[0]\n",
        "\t# Pad the sequences\n",
        "\ttoken_list = pad_sequences([token_list], maxlen=max_sequence_len-1, padding='pre')\n",
        "\t# Get the probabilities of predicting a word\n",
        "\tpredicted = model.predict(token_list, verbose=0)\n",
        "\t# Choose the next word based on the maximum probability\n",
        "\tpredicted = np.argmax(predicted, axis=-1).item()\n",
        "\t# Get the actual word from the word index\n",
        "\toutput_word = tokenizer.index_word[predicted]\n",
        "\t# Append to the current text\n",
        "\tseed_text += \" \" + output_word\n",
        "\n",
        "print(seed_text)"
      ]
    }
  ],
  "metadata": {
    "accelerator": "GPU",
    "colab": {
      "provenance": []
    },
    "jupytext": {
      "main_language": "python"
    },
    "kernelspec": {
      "display_name": "Python 3",
      "name": "python3"
    },
    "language_info": {
      "codemirror_mode": {
        "name": "ipython",
        "version": 3
      },
      "file_extension": ".py",
      "mimetype": "text/x-python",
      "name": "python",
      "nbconvert_exporter": "python",
      "pygments_lexer": "ipython3",
      "version": "3.11.2"
    }
  },
  "nbformat": 4,
  "nbformat_minor": 0
}
