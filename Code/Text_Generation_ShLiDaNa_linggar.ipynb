{
  "cells": [
    {
      "cell_type": "markdown",
      "metadata": {
        "id": "bFWbEb6uGbN-"
      },
      "source": [
        "# ShLiDaNa TEXT GENERATOR v1\n",
        "\n",
        "Create a model that will predict the next word in a text sequence, implementing and training using a corpus of Different datasets, while also creating some helper functions to pre-process the data."
      ]
    },
    {
      "cell_type": "markdown",
      "metadata": {
        "id": "YgXtktW6lWWg"
      },
      "source": [
        "OUR TEAM:\n",
        "\n",
        "| Name | NIM |\n",
        "|---|---|\n",
        "|Shahran Kurnia Ramadhan|21/476650/PA/20592|\n",
        "|Muhammad Linggar Ryanidha|21/475209/PA/20548|\n",
        "|Daniel Ardi Chandra|21/479046/PA/20780|\n",
        "|I Gusti Agung Premananda |21/473829/PA/20432|"
      ]
    },
    {
      "cell_type": "code",
      "execution_count": null,
      "metadata": {
        "id": "BOwsuGQQY9OL"
      },
      "outputs": [],
      "source": [
        "import numpy as np\n",
        "import re\n",
        "import matplotlib.pyplot as plt\n",
        "from tensorflow.keras.models import Sequential\n",
        "from tensorflow.keras.utils import to_categorical\n",
        "from tensorflow.keras.preprocessing.text import Tokenizer\n",
        "from tensorflow.keras.preprocessing.sequence import pad_sequences\n",
        "from tensorflow.keras.layers import Embedding, LSTM, Dense, Bidirectional"
      ]
    },
    {
      "cell_type": "code",
      "source": [
        "from google.colab import drive\n",
        "drive.mount('/content/drive')"
      ],
      "metadata": {
        "colab": {
          "base_uri": "https://localhost:8080/"
        },
        "id": "C7TKNWeXQhGJ",
        "outputId": "5e2e4018-268e-47a7-8dc9-fcf4c4068507"
      },
      "execution_count": null,
      "outputs": [
        {
          "output_type": "stream",
          "name": "stdout",
          "text": [
            "Mounted at /content/drive\n"
          ]
        }
      ]
    },
    {
      "cell_type": "code",
      "execution_count": null,
      "metadata": {
        "colab": {
          "base_uri": "https://localhost:8080/"
        },
        "id": "Pfd-nYKij5yY",
        "outputId": "2dc652b3-19db-4fc6-ccae-7cc9a87de0f0"
      },
      "outputs": [
        {
          "output_type": "stream",
          "name": "stdout",
          "text": [
            "There are 1938 lines\n",
            "\n",
            "The first 5 lines look like this:\n",
            "\n",
            "@harry potter und die kammer des schreckens, developer: eurocom, ea uk, publisher: ea games, november 2002, pc/gamecube/playstation 2/xbox.\n",
            "\n",
            "harry potter lived at number four, privet drive with his horrible uncle and aunt and their hateful son, dudley.\n",
            "harry was often locked in his room and even though he was a wizard, he couldnt escape because he wasnt allowed to use magic when he was away from school.\n",
            "one evening, a house-elf named dobby appeared . . .\n"
          ]
        }
      ],
      "source": [
        "import re\n",
        "\n",
        "# Define path for file with datasets\n",
        "dataset_path = '/content/drive/MyDrive/dataset/Harry Potter 2 ENG.txt'\n",
        "\n",
        "# Read the data with the appropriate encoding\n",
        "with open(dataset_path, encoding='ISO-8859-1') as f:\n",
        "    data = f.read()\n",
        "\n",
        "# Remove unwanted characters using regex\n",
        "data = re.sub(r\"[\\\"']\", \"\", data)\n",
        "\n",
        "# Convert to lower case and save as a list\n",
        "corpus = data.lower().split(\"\\n\")\n",
        "\n",
        "print(f\"There are {len(corpus)} lines\\n\")\n",
        "print(f\"The first 5 lines look like this:\\n\")\n",
        "for i in range(5):\n",
        "    print(corpus[i])\n"
      ]
    },
    {
      "cell_type": "markdown",
      "metadata": {
        "id": "imB15zrSNhA1"
      },
      "source": [
        "## Tokenizing the text\n",
        "\n",
        "Now fit the Tokenizer to the corpus and save the total number of words."
      ]
    },
    {
      "cell_type": "code",
      "execution_count": null,
      "metadata": {
        "id": "AAhM_qAZk0o5"
      },
      "outputs": [],
      "source": [
        "tokenizer = Tokenizer()\n",
        "tokenizer.fit_on_texts(corpus)\n",
        "total_words = len(tokenizer.word_index) + 1"
      ]
    },
    {
      "cell_type": "code",
      "execution_count": null,
      "metadata": {
        "colab": {
          "base_uri": "https://localhost:8080/",
          "height": 36
        },
        "id": "tqhPxdeXlfjh",
        "outputId": "52fe94a3-c906-4fc8-ad6a-2ac3a3bac75e"
      },
      "outputs": [
        {
          "output_type": "execute_result",
          "data": {
            "text/plain": [
              "'@harry potter und die kammer des schreckens, developer: eurocom, ea uk, publisher: ea games, november 2002, pc/gamecube/playstation 2/xbox.'"
            ],
            "application/vnd.google.colaboratory.intrinsic+json": {
              "type": "string"
            }
          },
          "metadata": {},
          "execution_count": 5
        }
      ],
      "source": [
        "corpus[0]"
      ]
    },
    {
      "cell_type": "markdown",
      "metadata": {
        "id": "XFMP4z11O3os"
      },
      "source": [
        "If you pass this text directly into the `texts_to_sequences` method you will get an unexpected result:"
      ]
    },
    {
      "cell_type": "code",
      "execution_count": null,
      "metadata": {
        "colab": {
          "base_uri": "https://localhost:8080/"
        },
        "id": "Qmgo-vXhk4nd",
        "outputId": "923c68da-e07d-4c09-e48c-13d483994edd"
      },
      "outputs": [
        {
          "output_type": "execute_result",
          "data": {
            "text/plain": [
              "[[7,\n",
              "  13,\n",
              "  1205,\n",
              "  868,\n",
              "  1206,\n",
              "  1207,\n",
              "  1208,\n",
              "  1209,\n",
              "  1210,\n",
              "  869,\n",
              "  1211,\n",
              "  1212,\n",
              "  869,\n",
              "  1213,\n",
              "  1214,\n",
              "  1215,\n",
              "  1216,\n",
              "  1217,\n",
              "  1218,\n",
              "  388,\n",
              "  1219]]"
            ]
          },
          "metadata": {},
          "execution_count": 6
        }
      ],
      "source": [
        "tokenizer.texts_to_sequences([corpus[0]])"
      ]
    },
    {
      "cell_type": "code",
      "execution_count": null,
      "metadata": {
        "colab": {
          "base_uri": "https://localhost:8080/"
        },
        "id": "kpTy8WmIQ57P",
        "outputId": "a3b63083-9210-497c-a945-d73678e5f21a"
      },
      "outputs": [
        {
          "output_type": "execute_result",
          "data": {
            "text/plain": [
              "[7,\n",
              " 13,\n",
              " 1205,\n",
              " 868,\n",
              " 1206,\n",
              " 1207,\n",
              " 1208,\n",
              " 1209,\n",
              " 1210,\n",
              " 869,\n",
              " 1211,\n",
              " 1212,\n",
              " 869,\n",
              " 1213,\n",
              " 1214,\n",
              " 1215,\n",
              " 1216,\n",
              " 1217,\n",
              " 1218,\n",
              " 388,\n",
              " 1219]"
            ]
          },
          "metadata": {},
          "execution_count": 7
        }
      ],
      "source": [
        "tokenizer.texts_to_sequences([corpus[0]])[0]"
      ]
    },
    {
      "cell_type": "markdown",
      "metadata": {
        "id": "-oqy9KjXRJ9A"
      },
      "source": [
        "## Generating n_grams\n",
        "\n",
        "This function receives the fitted tokenizer and the corpus (which is a list of strings) and should return a list containing the `n_gram` sequences for each line in the corpus:"
      ]
    },
    {
      "cell_type": "code",
      "execution_count": null,
      "metadata": {
        "id": "iy4baJMDl6kj"
      },
      "outputs": [],
      "source": [
        "# GRADED FUNCTION: n_gram_seqs\n",
        "def n_gram_seqs(corpus, tokenizer):\n",
        "\tinput_sequences = []\n",
        "\n",
        "\t### START CODE HERE\n",
        "\n",
        "\tfor line in corpus:\n",
        "\t\ttoken_list = tokenizer.texts_to_sequences([line])[0]\n",
        "\n",
        "\t\tfor i in range(1, len(token_list)):\n",
        "\t\t\t# Generate subphrase\n",
        "\t\t\tn_gram_sequence = token_list[:i+1]\n",
        "\t\t\t# Append subphrase to input_sequences list\n",
        "\t\t\tinput_sequences.append(n_gram_sequence)\n",
        "\n",
        "\t### END CODE HERE\n",
        "\n",
        "\treturn input_sequences"
      ]
    },
    {
      "cell_type": "code",
      "execution_count": null,
      "metadata": {
        "colab": {
          "base_uri": "https://localhost:8080/"
        },
        "id": "DlKqW2pfM7G3",
        "outputId": "d451a0a7-95e9-4749-837f-505b8107ba89"
      },
      "outputs": [
        {
          "output_type": "stream",
          "name": "stdout",
          "text": [
            "n_gram sequences for first example look like this:\n",
            "\n"
          ]
        },
        {
          "output_type": "execute_result",
          "data": {
            "text/plain": [
              "[[7, 13],\n",
              " [7, 13, 1205],\n",
              " [7, 13, 1205, 868],\n",
              " [7, 13, 1205, 868, 1206],\n",
              " [7, 13, 1205, 868, 1206, 1207],\n",
              " [7, 13, 1205, 868, 1206, 1207, 1208],\n",
              " [7, 13, 1205, 868, 1206, 1207, 1208, 1209],\n",
              " [7, 13, 1205, 868, 1206, 1207, 1208, 1209, 1210],\n",
              " [7, 13, 1205, 868, 1206, 1207, 1208, 1209, 1210, 869],\n",
              " [7, 13, 1205, 868, 1206, 1207, 1208, 1209, 1210, 869, 1211],\n",
              " [7, 13, 1205, 868, 1206, 1207, 1208, 1209, 1210, 869, 1211, 1212],\n",
              " [7, 13, 1205, 868, 1206, 1207, 1208, 1209, 1210, 869, 1211, 1212, 869],\n",
              " [7, 13, 1205, 868, 1206, 1207, 1208, 1209, 1210, 869, 1211, 1212, 869, 1213],\n",
              " [7,\n",
              "  13,\n",
              "  1205,\n",
              "  868,\n",
              "  1206,\n",
              "  1207,\n",
              "  1208,\n",
              "  1209,\n",
              "  1210,\n",
              "  869,\n",
              "  1211,\n",
              "  1212,\n",
              "  869,\n",
              "  1213,\n",
              "  1214],\n",
              " [7,\n",
              "  13,\n",
              "  1205,\n",
              "  868,\n",
              "  1206,\n",
              "  1207,\n",
              "  1208,\n",
              "  1209,\n",
              "  1210,\n",
              "  869,\n",
              "  1211,\n",
              "  1212,\n",
              "  869,\n",
              "  1213,\n",
              "  1214,\n",
              "  1215],\n",
              " [7,\n",
              "  13,\n",
              "  1205,\n",
              "  868,\n",
              "  1206,\n",
              "  1207,\n",
              "  1208,\n",
              "  1209,\n",
              "  1210,\n",
              "  869,\n",
              "  1211,\n",
              "  1212,\n",
              "  869,\n",
              "  1213,\n",
              "  1214,\n",
              "  1215,\n",
              "  1216],\n",
              " [7,\n",
              "  13,\n",
              "  1205,\n",
              "  868,\n",
              "  1206,\n",
              "  1207,\n",
              "  1208,\n",
              "  1209,\n",
              "  1210,\n",
              "  869,\n",
              "  1211,\n",
              "  1212,\n",
              "  869,\n",
              "  1213,\n",
              "  1214,\n",
              "  1215,\n",
              "  1216,\n",
              "  1217],\n",
              " [7,\n",
              "  13,\n",
              "  1205,\n",
              "  868,\n",
              "  1206,\n",
              "  1207,\n",
              "  1208,\n",
              "  1209,\n",
              "  1210,\n",
              "  869,\n",
              "  1211,\n",
              "  1212,\n",
              "  869,\n",
              "  1213,\n",
              "  1214,\n",
              "  1215,\n",
              "  1216,\n",
              "  1217,\n",
              "  1218],\n",
              " [7,\n",
              "  13,\n",
              "  1205,\n",
              "  868,\n",
              "  1206,\n",
              "  1207,\n",
              "  1208,\n",
              "  1209,\n",
              "  1210,\n",
              "  869,\n",
              "  1211,\n",
              "  1212,\n",
              "  869,\n",
              "  1213,\n",
              "  1214,\n",
              "  1215,\n",
              "  1216,\n",
              "  1217,\n",
              "  1218,\n",
              "  388],\n",
              " [7,\n",
              "  13,\n",
              "  1205,\n",
              "  868,\n",
              "  1206,\n",
              "  1207,\n",
              "  1208,\n",
              "  1209,\n",
              "  1210,\n",
              "  869,\n",
              "  1211,\n",
              "  1212,\n",
              "  869,\n",
              "  1213,\n",
              "  1214,\n",
              "  1215,\n",
              "  1216,\n",
              "  1217,\n",
              "  1218,\n",
              "  388,\n",
              "  1219]]"
            ]
          },
          "metadata": {},
          "execution_count": 9
        }
      ],
      "source": [
        "# Test your function with one example\n",
        "first_example_sequence = n_gram_seqs([corpus[0]], tokenizer)\n",
        "\n",
        "print(\"n_gram sequences for first example look like this:\\n\")\n",
        "first_example_sequence"
      ]
    },
    {
      "cell_type": "code",
      "execution_count": null,
      "metadata": {
        "colab": {
          "base_uri": "https://localhost:8080/"
        },
        "id": "wtPpCcBjNc4c",
        "outputId": "57abc3b5-3d23-4b13-9fcb-92c62b4bc944"
      },
      "outputs": [
        {
          "output_type": "stream",
          "name": "stdout",
          "text": [
            "n_gram sequences for next 3 examples look like this:\n",
            "\n"
          ]
        },
        {
          "output_type": "execute_result",
          "data": {
            "text/plain": [
              "[[7, 13],\n",
              " [7, 13, 1220],\n",
              " [7, 13, 1220, 43],\n",
              " [7, 13, 1220, 43, 1221],\n",
              " [7, 13, 1220, 43, 1221, 593],\n",
              " [7, 13, 1220, 43, 1221, 593, 1222],\n",
              " [7, 13, 1220, 43, 1221, 593, 1222, 1223],\n",
              " [7, 13, 1220, 43, 1221, 593, 1222, 1223, 47],\n",
              " [7, 13, 1220, 43, 1221, 593, 1222, 1223, 47, 115],\n",
              " [7, 13, 1220, 43, 1221, 593, 1222, 1223, 47, 115, 508],\n",
              " [7, 13, 1220, 43, 1221, 593, 1222, 1223, 47, 115, 508, 1224],\n",
              " [7, 13, 1220, 43, 1221, 593, 1222, 1223, 47, 115, 508, 1224, 8],\n",
              " [7, 13, 1220, 43, 1221, 593, 1222, 1223, 47, 115, 508, 1224, 8, 1225],\n",
              " [7, 13, 1220, 43, 1221, 593, 1222, 1223, 47, 115, 508, 1224, 8, 1225, 8],\n",
              " [7, 13, 1220, 43, 1221, 593, 1222, 1223, 47, 115, 508, 1224, 8, 1225, 8, 99],\n",
              " [7,\n",
              "  13,\n",
              "  1220,\n",
              "  43,\n",
              "  1221,\n",
              "  593,\n",
              "  1222,\n",
              "  1223,\n",
              "  47,\n",
              "  115,\n",
              "  508,\n",
              "  1224,\n",
              "  8,\n",
              "  1225,\n",
              "  8,\n",
              "  99,\n",
              "  1226],\n",
              " [7,\n",
              "  13,\n",
              "  1220,\n",
              "  43,\n",
              "  1221,\n",
              "  593,\n",
              "  1222,\n",
              "  1223,\n",
              "  47,\n",
              "  115,\n",
              "  508,\n",
              "  1224,\n",
              "  8,\n",
              "  1225,\n",
              "  8,\n",
              "  99,\n",
              "  1226,\n",
              "  1227],\n",
              " [7,\n",
              "  13,\n",
              "  1220,\n",
              "  43,\n",
              "  1221,\n",
              "  593,\n",
              "  1222,\n",
              "  1223,\n",
              "  47,\n",
              "  115,\n",
              "  508,\n",
              "  1224,\n",
              "  8,\n",
              "  1225,\n",
              "  8,\n",
              "  99,\n",
              "  1226,\n",
              "  1227,\n",
              "  1228],\n",
              " [7, 33],\n",
              " [7, 33, 1229],\n",
              " [7, 33, 1229, 352],\n",
              " [7, 33, 1229, 352, 9],\n",
              " [7, 33, 1229, 352, 9, 115],\n",
              " [7, 33, 1229, 352, 9, 115, 181],\n",
              " [7, 33, 1229, 352, 9, 115, 181, 8],\n",
              " [7, 33, 1229, 352, 9, 115, 181, 8, 182],\n",
              " [7, 33, 1229, 352, 9, 115, 181, 8, 182, 594],\n",
              " [7, 33, 1229, 352, 9, 115, 181, 8, 182, 594, 65],\n",
              " [7, 33, 1229, 352, 9, 115, 181, 8, 182, 594, 65, 33],\n",
              " [7, 33, 1229, 352, 9, 115, 181, 8, 182, 594, 65, 33, 5],\n",
              " [7, 33, 1229, 352, 9, 115, 181, 8, 182, 594, 65, 33, 5, 75],\n",
              " [7, 33, 1229, 352, 9, 115, 181, 8, 182, 594, 65, 33, 5, 75, 65],\n",
              " [7, 33, 1229, 352, 9, 115, 181, 8, 182, 594, 65, 33, 5, 75, 65, 389],\n",
              " [7, 33, 1229, 352, 9, 115, 181, 8, 182, 594, 65, 33, 5, 75, 65, 389, 595],\n",
              " [7,\n",
              "  33,\n",
              "  1229,\n",
              "  352,\n",
              "  9,\n",
              "  115,\n",
              "  181,\n",
              "  8,\n",
              "  182,\n",
              "  594,\n",
              "  65,\n",
              "  33,\n",
              "  5,\n",
              "  75,\n",
              "  65,\n",
              "  389,\n",
              "  595,\n",
              "  509],\n",
              " [7,\n",
              "  33,\n",
              "  1229,\n",
              "  352,\n",
              "  9,\n",
              "  115,\n",
              "  181,\n",
              "  8,\n",
              "  182,\n",
              "  594,\n",
              "  65,\n",
              "  33,\n",
              "  5,\n",
              "  75,\n",
              "  65,\n",
              "  389,\n",
              "  595,\n",
              "  509,\n",
              "  65],\n",
              " [7,\n",
              "  33,\n",
              "  1229,\n",
              "  352,\n",
              "  9,\n",
              "  115,\n",
              "  181,\n",
              "  8,\n",
              "  182,\n",
              "  594,\n",
              "  65,\n",
              "  33,\n",
              "  5,\n",
              "  75,\n",
              "  65,\n",
              "  389,\n",
              "  595,\n",
              "  509,\n",
              "  65,\n",
              "  353],\n",
              " [7,\n",
              "  33,\n",
              "  1229,\n",
              "  352,\n",
              "  9,\n",
              "  115,\n",
              "  181,\n",
              "  8,\n",
              "  182,\n",
              "  594,\n",
              "  65,\n",
              "  33,\n",
              "  5,\n",
              "  75,\n",
              "  65,\n",
              "  389,\n",
              "  595,\n",
              "  509,\n",
              "  65,\n",
              "  353,\n",
              "  1230],\n",
              " [7,\n",
              "  33,\n",
              "  1229,\n",
              "  352,\n",
              "  9,\n",
              "  115,\n",
              "  181,\n",
              "  8,\n",
              "  182,\n",
              "  594,\n",
              "  65,\n",
              "  33,\n",
              "  5,\n",
              "  75,\n",
              "  65,\n",
              "  389,\n",
              "  595,\n",
              "  509,\n",
              "  65,\n",
              "  353,\n",
              "  1230,\n",
              "  2],\n",
              " [7,\n",
              "  33,\n",
              "  1229,\n",
              "  352,\n",
              "  9,\n",
              "  115,\n",
              "  181,\n",
              "  8,\n",
              "  182,\n",
              "  594,\n",
              "  65,\n",
              "  33,\n",
              "  5,\n",
              "  75,\n",
              "  65,\n",
              "  389,\n",
              "  595,\n",
              "  509,\n",
              "  65,\n",
              "  353,\n",
              "  1230,\n",
              "  2,\n",
              "  116],\n",
              " [7,\n",
              "  33,\n",
              "  1229,\n",
              "  352,\n",
              "  9,\n",
              "  115,\n",
              "  181,\n",
              "  8,\n",
              "  182,\n",
              "  594,\n",
              "  65,\n",
              "  33,\n",
              "  5,\n",
              "  75,\n",
              "  65,\n",
              "  389,\n",
              "  595,\n",
              "  509,\n",
              "  65,\n",
              "  353,\n",
              "  1230,\n",
              "  2,\n",
              "  116,\n",
              "  596],\n",
              " [7,\n",
              "  33,\n",
              "  1229,\n",
              "  352,\n",
              "  9,\n",
              "  115,\n",
              "  181,\n",
              "  8,\n",
              "  182,\n",
              "  594,\n",
              "  65,\n",
              "  33,\n",
              "  5,\n",
              "  75,\n",
              "  65,\n",
              "  389,\n",
              "  595,\n",
              "  509,\n",
              "  65,\n",
              "  353,\n",
              "  1230,\n",
              "  2,\n",
              "  116,\n",
              "  596,\n",
              "  81],\n",
              " [7,\n",
              "  33,\n",
              "  1229,\n",
              "  352,\n",
              "  9,\n",
              "  115,\n",
              "  181,\n",
              "  8,\n",
              "  182,\n",
              "  594,\n",
              "  65,\n",
              "  33,\n",
              "  5,\n",
              "  75,\n",
              "  65,\n",
              "  389,\n",
              "  595,\n",
              "  509,\n",
              "  65,\n",
              "  353,\n",
              "  1230,\n",
              "  2,\n",
              "  116,\n",
              "  596,\n",
              "  81,\n",
              "  65],\n",
              " [7,\n",
              "  33,\n",
              "  1229,\n",
              "  352,\n",
              "  9,\n",
              "  115,\n",
              "  181,\n",
              "  8,\n",
              "  182,\n",
              "  594,\n",
              "  65,\n",
              "  33,\n",
              "  5,\n",
              "  75,\n",
              "  65,\n",
              "  389,\n",
              "  595,\n",
              "  509,\n",
              "  65,\n",
              "  353,\n",
              "  1230,\n",
              "  2,\n",
              "  116,\n",
              "  596,\n",
              "  81,\n",
              "  65,\n",
              "  33],\n",
              " [7,\n",
              "  33,\n",
              "  1229,\n",
              "  352,\n",
              "  9,\n",
              "  115,\n",
              "  181,\n",
              "  8,\n",
              "  182,\n",
              "  594,\n",
              "  65,\n",
              "  33,\n",
              "  5,\n",
              "  75,\n",
              "  65,\n",
              "  389,\n",
              "  595,\n",
              "  509,\n",
              "  65,\n",
              "  353,\n",
              "  1230,\n",
              "  2,\n",
              "  116,\n",
              "  596,\n",
              "  81,\n",
              "  65,\n",
              "  33,\n",
              "  137],\n",
              " [7,\n",
              "  33,\n",
              "  1229,\n",
              "  352,\n",
              "  9,\n",
              "  115,\n",
              "  181,\n",
              "  8,\n",
              "  182,\n",
              "  594,\n",
              "  65,\n",
              "  33,\n",
              "  5,\n",
              "  75,\n",
              "  65,\n",
              "  389,\n",
              "  595,\n",
              "  509,\n",
              "  65,\n",
              "  353,\n",
              "  1230,\n",
              "  2,\n",
              "  116,\n",
              "  596,\n",
              "  81,\n",
              "  65,\n",
              "  33,\n",
              "  137,\n",
              "  62],\n",
              " [7,\n",
              "  33,\n",
              "  1229,\n",
              "  352,\n",
              "  9,\n",
              "  115,\n",
              "  181,\n",
              "  8,\n",
              "  182,\n",
              "  594,\n",
              "  65,\n",
              "  33,\n",
              "  5,\n",
              "  75,\n",
              "  65,\n",
              "  389,\n",
              "  595,\n",
              "  509,\n",
              "  65,\n",
              "  353,\n",
              "  1230,\n",
              "  2,\n",
              "  116,\n",
              "  596,\n",
              "  81,\n",
              "  65,\n",
              "  33,\n",
              "  137,\n",
              "  62,\n",
              "  166]]"
            ]
          },
          "metadata": {},
          "execution_count": 10
        }
      ],
      "source": [
        "# Test your function with a bigger corpus\n",
        "next_3_examples_sequence = n_gram_seqs(corpus[1:4], tokenizer)\n",
        "\n",
        "print(\"n_gram sequences for next 3 examples look like this:\\n\")\n",
        "next_3_examples_sequence"
      ]
    },
    {
      "cell_type": "markdown",
      "metadata": {
        "id": "dx3V_RjFWQSu"
      },
      "source": [
        "Apply the `n_gram_seqs` transformation to the whole corpus and save the maximum sequence length to use it later:"
      ]
    },
    {
      "cell_type": "code",
      "execution_count": null,
      "metadata": {
        "colab": {
          "base_uri": "https://localhost:8080/"
        },
        "id": "laMwiRUpmuSd",
        "outputId": "e61f91fa-5faa-46e3-ed33-4ee637fb120a"
      },
      "outputs": [
        {
          "output_type": "stream",
          "name": "stdout",
          "text": [
            "n_grams of input_sequences have length: 15917\n",
            "maximum length of sequences is: 50\n"
          ]
        }
      ],
      "source": [
        "# Apply the n_gram_seqs transformation to the whole corpus\n",
        "input_sequences = n_gram_seqs(corpus, tokenizer)\n",
        "\n",
        "# Save max length\n",
        "max_sequence_len = max([len(x) for x in input_sequences])\n",
        "\n",
        "print(f\"n_grams of input_sequences have length: {len(input_sequences)}\")\n",
        "print(f\"maximum length of sequences is: {max_sequence_len}\")"
      ]
    },
    {
      "cell_type": "markdown",
      "metadata": {
        "id": "zHY7HroqWq12"
      },
      "source": [
        "## Add padding to the sequences\n",
        "\n",
        "Now code the `pad_seqs` function which will pad any given sequences to the desired maximum length. Notice that this function receives a list of sequences and should return a numpy array with the padded sequences:"
      ]
    },
    {
      "cell_type": "code",
      "execution_count": null,
      "metadata": {
        "cellView": "code",
        "id": "WW1-qAZaWOhC"
      },
      "outputs": [],
      "source": [
        "# GRADED FUNCTION: pad_seqs\n",
        "def pad_seqs(input_sequences, maxlen):\n",
        "    ### START CODE HERE\n",
        "    padded_sequences = pad_sequences(input_sequences, maxlen=maxlen, padding='pre')\n",
        "\n",
        "    return padded_sequences\n",
        "    ### END CODE HERE"
      ]
    },
    {
      "cell_type": "code",
      "execution_count": null,
      "metadata": {
        "colab": {
          "base_uri": "https://localhost:8080/"
        },
        "id": "IqVQ0pb3YHLr",
        "outputId": "26560d7b-8ede-40b0-d819-14a726f64edf"
      },
      "outputs": [
        {
          "output_type": "execute_result",
          "data": {
            "text/plain": [
              "array([[   0,    0,    0,    0,    0,    0,    0,    0,    0,    0,    0,\n",
              "           0,    0,    0,    0,    0,    0,    0,    7,   13],\n",
              "       [   0,    0,    0,    0,    0,    0,    0,    0,    0,    0,    0,\n",
              "           0,    0,    0,    0,    0,    0,    7,   13, 1205],\n",
              "       [   0,    0,    0,    0,    0,    0,    0,    0,    0,    0,    0,\n",
              "           0,    0,    0,    0,    0,    7,   13, 1205,  868],\n",
              "       [   0,    0,    0,    0,    0,    0,    0,    0,    0,    0,    0,\n",
              "           0,    0,    0,    0,    7,   13, 1205,  868, 1206],\n",
              "       [   0,    0,    0,    0,    0,    0,    0,    0,    0,    0,    0,\n",
              "           0,    0,    0,    7,   13, 1205,  868, 1206, 1207],\n",
              "       [   0,    0,    0,    0,    0,    0,    0,    0,    0,    0,    0,\n",
              "           0,    0,    7,   13, 1205,  868, 1206, 1207, 1208],\n",
              "       [   0,    0,    0,    0,    0,    0,    0,    0,    0,    0,    0,\n",
              "           0,    7,   13, 1205,  868, 1206, 1207, 1208, 1209],\n",
              "       [   0,    0,    0,    0,    0,    0,    0,    0,    0,    0,    0,\n",
              "           7,   13, 1205,  868, 1206, 1207, 1208, 1209, 1210],\n",
              "       [   0,    0,    0,    0,    0,    0,    0,    0,    0,    0,    7,\n",
              "          13, 1205,  868, 1206, 1207, 1208, 1209, 1210,  869],\n",
              "       [   0,    0,    0,    0,    0,    0,    0,    0,    0,    7,   13,\n",
              "        1205,  868, 1206, 1207, 1208, 1209, 1210,  869, 1211],\n",
              "       [   0,    0,    0,    0,    0,    0,    0,    0,    7,   13, 1205,\n",
              "         868, 1206, 1207, 1208, 1209, 1210,  869, 1211, 1212],\n",
              "       [   0,    0,    0,    0,    0,    0,    0,    7,   13, 1205,  868,\n",
              "        1206, 1207, 1208, 1209, 1210,  869, 1211, 1212,  869],\n",
              "       [   0,    0,    0,    0,    0,    0,    7,   13, 1205,  868, 1206,\n",
              "        1207, 1208, 1209, 1210,  869, 1211, 1212,  869, 1213],\n",
              "       [   0,    0,    0,    0,    0,    7,   13, 1205,  868, 1206, 1207,\n",
              "        1208, 1209, 1210,  869, 1211, 1212,  869, 1213, 1214],\n",
              "       [   0,    0,    0,    0,    7,   13, 1205,  868, 1206, 1207, 1208,\n",
              "        1209, 1210,  869, 1211, 1212,  869, 1213, 1214, 1215],\n",
              "       [   0,    0,    0,    7,   13, 1205,  868, 1206, 1207, 1208, 1209,\n",
              "        1210,  869, 1211, 1212,  869, 1213, 1214, 1215, 1216],\n",
              "       [   0,    0,    7,   13, 1205,  868, 1206, 1207, 1208, 1209, 1210,\n",
              "         869, 1211, 1212,  869, 1213, 1214, 1215, 1216, 1217],\n",
              "       [   0,    7,   13, 1205,  868, 1206, 1207, 1208, 1209, 1210,  869,\n",
              "        1211, 1212,  869, 1213, 1214, 1215, 1216, 1217, 1218],\n",
              "       [   7,   13, 1205,  868, 1206, 1207, 1208, 1209, 1210,  869, 1211,\n",
              "        1212,  869, 1213, 1214, 1215, 1216, 1217, 1218,  388],\n",
              "       [  13, 1205,  868, 1206, 1207, 1208, 1209, 1210,  869, 1211, 1212,\n",
              "         869, 1213, 1214, 1215, 1216, 1217, 1218,  388, 1219]],\n",
              "      dtype=int32)"
            ]
          },
          "metadata": {},
          "execution_count": 13
        }
      ],
      "source": [
        "# Test your function with the n_grams_seq of the first example\n",
        "first_padded_seq = pad_seqs(first_example_sequence, len(first_example_sequence))\n",
        "first_padded_seq"
      ]
    },
    {
      "cell_type": "code",
      "execution_count": null,
      "metadata": {
        "colab": {
          "base_uri": "https://localhost:8080/"
        },
        "id": "j56_UCOBYzZt",
        "outputId": "1b46c8ea-b661-4aa6-8eb6-9b57cfd6b148"
      },
      "outputs": [
        {
          "output_type": "execute_result",
          "data": {
            "text/plain": [
              "array([[   0,    0,    0, ...,    0,    7,   13],\n",
              "       [   0,    0,    0, ...,    7,   13, 1220],\n",
              "       [   0,    0,    0, ...,   13, 1220,   43],\n",
              "       ...,\n",
              "       [   0,    0,    7, ...,   65,   33,  137],\n",
              "       [   0,    7,   33, ...,   33,  137,   62],\n",
              "       [   7,   33, 1229, ...,  137,   62,  166]], dtype=int32)"
            ]
          },
          "metadata": {},
          "execution_count": 14
        }
      ],
      "source": [
        "# Test your function with the n_grams_seq of the next 3 examples\n",
        "next_3_padded_seq = pad_seqs(next_3_examples_sequence, max([len(s) for s in next_3_examples_sequence]))\n",
        "next_3_padded_seq"
      ]
    },
    {
      "cell_type": "code",
      "execution_count": null,
      "metadata": {
        "colab": {
          "base_uri": "https://localhost:8080/"
        },
        "id": "rgK-Q_micEYA",
        "outputId": "4221880d-2049-4982-e77f-e6bc27049ef1"
      },
      "outputs": [
        {
          "output_type": "stream",
          "name": "stdout",
          "text": [
            "padded corpus has shape: (15917, 50)\n"
          ]
        }
      ],
      "source": [
        "# Pad the whole corpus\n",
        "input_sequences = pad_seqs(input_sequences, max_sequence_len)\n",
        "\n",
        "print(f\"padded corpus has shape: {input_sequences.shape}\")"
      ]
    },
    {
      "cell_type": "markdown",
      "metadata": {
        "id": "ZbOidyPrXxf7"
      },
      "source": [
        "## Split the data into features and labels\n",
        "\n",
        "Before feeding the data into the neural network you should split it into features and labels. In this case the features will be the padded n_gram sequences with the last word removed from them and the labels will be the removed word."
      ]
    },
    {
      "cell_type": "code",
      "execution_count": null,
      "metadata": {
        "cellView": "code",
        "id": "9WGGbYdnZdmJ"
      },
      "outputs": [],
      "source": [
        "# GRADED FUNCTION: features_and_labels\n",
        "def features_and_labels(input_sequences, total_words):\n",
        "    ### START CODE HERE\n",
        "    features = input_sequences[:,:-1]\n",
        "    labels = input_sequences[:,-1]\n",
        "    one_hot_labels = to_categorical(labels, num_classes=total_words)\n",
        "    ### END CODE HERE\n",
        "\n",
        "    return features, one_hot_labels"
      ]
    },
    {
      "cell_type": "code",
      "execution_count": null,
      "metadata": {
        "colab": {
          "base_uri": "https://localhost:8080/"
        },
        "id": "23DolaBRaIAZ",
        "outputId": "092089a9-e01c-4cda-a488-918aa840f543"
      },
      "outputs": [
        {
          "output_type": "stream",
          "name": "stdout",
          "text": [
            "labels have shape: (20, 2403)\n",
            "\n",
            "features look like this:\n",
            "\n"
          ]
        },
        {
          "output_type": "execute_result",
          "data": {
            "text/plain": [
              "array([[   0,    0,    0,    0,    0,    0,    0,    0,    0,    0,    0,\n",
              "           0,    0,    0,    0,    0,    0,    0,    7],\n",
              "       [   0,    0,    0,    0,    0,    0,    0,    0,    0,    0,    0,\n",
              "           0,    0,    0,    0,    0,    0,    7,   13],\n",
              "       [   0,    0,    0,    0,    0,    0,    0,    0,    0,    0,    0,\n",
              "           0,    0,    0,    0,    0,    7,   13, 1205],\n",
              "       [   0,    0,    0,    0,    0,    0,    0,    0,    0,    0,    0,\n",
              "           0,    0,    0,    0,    7,   13, 1205,  868],\n",
              "       [   0,    0,    0,    0,    0,    0,    0,    0,    0,    0,    0,\n",
              "           0,    0,    0,    7,   13, 1205,  868, 1206],\n",
              "       [   0,    0,    0,    0,    0,    0,    0,    0,    0,    0,    0,\n",
              "           0,    0,    7,   13, 1205,  868, 1206, 1207],\n",
              "       [   0,    0,    0,    0,    0,    0,    0,    0,    0,    0,    0,\n",
              "           0,    7,   13, 1205,  868, 1206, 1207, 1208],\n",
              "       [   0,    0,    0,    0,    0,    0,    0,    0,    0,    0,    0,\n",
              "           7,   13, 1205,  868, 1206, 1207, 1208, 1209],\n",
              "       [   0,    0,    0,    0,    0,    0,    0,    0,    0,    0,    7,\n",
              "          13, 1205,  868, 1206, 1207, 1208, 1209, 1210],\n",
              "       [   0,    0,    0,    0,    0,    0,    0,    0,    0,    7,   13,\n",
              "        1205,  868, 1206, 1207, 1208, 1209, 1210,  869],\n",
              "       [   0,    0,    0,    0,    0,    0,    0,    0,    7,   13, 1205,\n",
              "         868, 1206, 1207, 1208, 1209, 1210,  869, 1211],\n",
              "       [   0,    0,    0,    0,    0,    0,    0,    7,   13, 1205,  868,\n",
              "        1206, 1207, 1208, 1209, 1210,  869, 1211, 1212],\n",
              "       [   0,    0,    0,    0,    0,    0,    7,   13, 1205,  868, 1206,\n",
              "        1207, 1208, 1209, 1210,  869, 1211, 1212,  869],\n",
              "       [   0,    0,    0,    0,    0,    7,   13, 1205,  868, 1206, 1207,\n",
              "        1208, 1209, 1210,  869, 1211, 1212,  869, 1213],\n",
              "       [   0,    0,    0,    0,    7,   13, 1205,  868, 1206, 1207, 1208,\n",
              "        1209, 1210,  869, 1211, 1212,  869, 1213, 1214],\n",
              "       [   0,    0,    0,    7,   13, 1205,  868, 1206, 1207, 1208, 1209,\n",
              "        1210,  869, 1211, 1212,  869, 1213, 1214, 1215],\n",
              "       [   0,    0,    7,   13, 1205,  868, 1206, 1207, 1208, 1209, 1210,\n",
              "         869, 1211, 1212,  869, 1213, 1214, 1215, 1216],\n",
              "       [   0,    7,   13, 1205,  868, 1206, 1207, 1208, 1209, 1210,  869,\n",
              "        1211, 1212,  869, 1213, 1214, 1215, 1216, 1217],\n",
              "       [   7,   13, 1205,  868, 1206, 1207, 1208, 1209, 1210,  869, 1211,\n",
              "        1212,  869, 1213, 1214, 1215, 1216, 1217, 1218],\n",
              "       [  13, 1205,  868, 1206, 1207, 1208, 1209, 1210,  869, 1211, 1212,\n",
              "         869, 1213, 1214, 1215, 1216, 1217, 1218,  388]], dtype=int32)"
            ]
          },
          "metadata": {},
          "execution_count": 17
        }
      ],
      "source": [
        "# Test your function with the padded n_grams_seq of the first example\n",
        "first_features, first_labels = features_and_labels(first_padded_seq, total_words)\n",
        "\n",
        "print(f\"labels have shape: {first_labels.shape}\")\n",
        "print(\"\\nfeatures look like this:\\n\")\n",
        "first_features"
      ]
    },
    {
      "cell_type": "code",
      "execution_count": null,
      "metadata": {
        "colab": {
          "base_uri": "https://localhost:8080/"
        },
        "id": "GRTuLEt3bRKa",
        "outputId": "f7b8104b-cf81-4166-d502-7c4776bdac8d"
      },
      "outputs": [
        {
          "output_type": "stream",
          "name": "stdout",
          "text": [
            "features have shape: (15917, 49)\n",
            "labels have shape: (15917, 2403)\n"
          ]
        }
      ],
      "source": [
        "# Split the whole corpus\n",
        "features, labels = features_and_labels(input_sequences, total_words)\n",
        "\n",
        "print(f\"features have shape: {features.shape}\")\n",
        "print(f\"labels have shape: {labels.shape}\")"
      ]
    },
    {
      "cell_type": "markdown",
      "metadata": {
        "id": "ltxaOCE_aU6J"
      },
      "source": [
        "## Create the model\n",
        "\n",
        "- Should implement Transformer encoder"
      ]
    },
    {
      "cell_type": "code",
      "execution_count": null,
      "metadata": {
        "cellView": "code",
        "id": "XrE6kpJFfvRY"
      },
      "outputs": [],
      "source": [
        "# GRADED FUNCTION: create_model\n",
        "def create_model(total_words, max_sequence_len):\n",
        "\n",
        "    model = Sequential()\n",
        "    ### START CODE HERE\n",
        "    model.add(Embedding(total_words, 100, input_length=max_sequence_len-1))\n",
        "    model.add(Bidirectional(LSTM(150)))\n",
        "    model.add(Dense(total_words, activation='softmax'))\n",
        "\n",
        "    # Compile the model\n",
        "    model.compile(loss='categorical_crossentropy',\n",
        "                  optimizer='adam',\n",
        "                  metrics=['accuracy'])\n",
        "\n",
        "    ### END CODE HERE\n",
        "\n",
        "    return model"
      ]
    },
    {
      "cell_type": "code",
      "execution_count": null,
      "metadata": {
        "colab": {
          "base_uri": "https://localhost:8080/"
        },
        "id": "0IpX_Gu_gISk",
        "outputId": "d8612940-ba66-431e-e578-9dfaea5b08cb"
      },
      "outputs": [
        {
          "output_type": "stream",
          "name": "stdout",
          "text": [
            "Epoch 1/50\n",
            "498/498 [==============================] - 31s 43ms/step - loss: 6.4424 - accuracy: 0.0529\n",
            "Epoch 2/50\n",
            "498/498 [==============================] - 9s 17ms/step - loss: 5.8303 - accuracy: 0.0758\n",
            "Epoch 3/50\n",
            "498/498 [==============================] - 6s 12ms/step - loss: 5.3448 - accuracy: 0.1116\n",
            "Epoch 4/50\n",
            "498/498 [==============================] - 6s 12ms/step - loss: 4.8841 - accuracy: 0.1488\n",
            "Epoch 5/50\n",
            "498/498 [==============================] - 6s 13ms/step - loss: 4.4763 - accuracy: 0.1869\n",
            "Epoch 6/50\n",
            "498/498 [==============================] - 6s 12ms/step - loss: 4.1089 - accuracy: 0.2187\n",
            "Epoch 7/50\n",
            "498/498 [==============================] - 7s 15ms/step - loss: 3.7732 - accuracy: 0.2572\n",
            "Epoch 8/50\n",
            "498/498 [==============================] - 5s 11ms/step - loss: 3.4652 - accuracy: 0.2985\n",
            "Epoch 9/50\n",
            "498/498 [==============================] - 6s 12ms/step - loss: 3.1768 - accuracy: 0.3438\n",
            "Epoch 10/50\n",
            "498/498 [==============================] - 7s 14ms/step - loss: 2.9075 - accuracy: 0.3892\n",
            "Epoch 11/50\n",
            "498/498 [==============================] - 5s 11ms/step - loss: 2.6619 - accuracy: 0.4394\n",
            "Epoch 12/50\n",
            "498/498 [==============================] - 6s 13ms/step - loss: 2.4338 - accuracy: 0.4786\n",
            "Epoch 13/50\n",
            "498/498 [==============================] - 6s 12ms/step - loss: 2.2229 - accuracy: 0.5247\n",
            "Epoch 14/50\n",
            "498/498 [==============================] - 5s 11ms/step - loss: 2.0309 - accuracy: 0.5637\n",
            "Epoch 15/50\n",
            "498/498 [==============================] - 7s 15ms/step - loss: 1.8574 - accuracy: 0.6019\n",
            "Epoch 16/50\n",
            "498/498 [==============================] - 6s 11ms/step - loss: 1.6985 - accuracy: 0.6344\n",
            "Epoch 17/50\n",
            "498/498 [==============================] - 6s 12ms/step - loss: 1.5513 - accuracy: 0.6674\n",
            "Epoch 18/50\n",
            "498/498 [==============================] - 7s 14ms/step - loss: 1.4166 - accuracy: 0.7009\n",
            "Epoch 19/50\n",
            "498/498 [==============================] - 5s 10ms/step - loss: 1.2963 - accuracy: 0.7251\n",
            "Epoch 20/50\n",
            "498/498 [==============================] - 6s 12ms/step - loss: 1.1864 - accuracy: 0.7511\n",
            "Epoch 21/50\n",
            "498/498 [==============================] - 6s 12ms/step - loss: 1.0882 - accuracy: 0.7707\n",
            "Epoch 22/50\n",
            "498/498 [==============================] - 5s 11ms/step - loss: 1.0009 - accuracy: 0.7900\n",
            "Epoch 23/50\n",
            "498/498 [==============================] - 7s 13ms/step - loss: 0.9207 - accuracy: 0.8069\n",
            "Epoch 24/50\n",
            "498/498 [==============================] - 5s 11ms/step - loss: 0.8526 - accuracy: 0.8200\n",
            "Epoch 25/50\n",
            "498/498 [==============================] - 5s 10ms/step - loss: 0.7853 - accuracy: 0.8331\n",
            "Epoch 26/50\n",
            "498/498 [==============================] - 7s 14ms/step - loss: 0.7309 - accuracy: 0.8432\n",
            "Epoch 27/50\n",
            "498/498 [==============================] - 5s 11ms/step - loss: 0.6828 - accuracy: 0.8514\n",
            "Epoch 28/50\n",
            "498/498 [==============================] - 6s 11ms/step - loss: 0.6401 - accuracy: 0.8569\n",
            "Epoch 29/50\n",
            "498/498 [==============================] - 6s 13ms/step - loss: 0.6012 - accuracy: 0.8633\n",
            "Epoch 30/50\n",
            "498/498 [==============================] - 5s 11ms/step - loss: 0.5704 - accuracy: 0.8657\n",
            "Epoch 31/50\n",
            "498/498 [==============================] - 6s 11ms/step - loss: 0.5406 - accuracy: 0.8698\n",
            "Epoch 32/50\n",
            "498/498 [==============================] - 6s 13ms/step - loss: 0.5165 - accuracy: 0.8700\n",
            "Epoch 33/50\n",
            "498/498 [==============================] - 5s 10ms/step - loss: 0.4974 - accuracy: 0.8725\n",
            "Epoch 34/50\n",
            "498/498 [==============================] - 6s 12ms/step - loss: 0.4767 - accuracy: 0.8744\n",
            "Epoch 35/50\n",
            "498/498 [==============================] - 6s 12ms/step - loss: 0.4629 - accuracy: 0.8758\n",
            "Epoch 36/50\n",
            "498/498 [==============================] - 5s 10ms/step - loss: 0.4480 - accuracy: 0.8771\n",
            "Epoch 37/50\n",
            "498/498 [==============================] - 6s 13ms/step - loss: 0.4356 - accuracy: 0.8777\n",
            "Epoch 38/50\n",
            "498/498 [==============================] - 6s 12ms/step - loss: 0.4264 - accuracy: 0.8786\n",
            "Epoch 39/50\n",
            "498/498 [==============================] - 5s 10ms/step - loss: 0.4174 - accuracy: 0.8774\n",
            "Epoch 40/50\n",
            "498/498 [==============================] - 6s 13ms/step - loss: 0.4092 - accuracy: 0.8798\n",
            "Epoch 41/50\n",
            "498/498 [==============================] - 5s 11ms/step - loss: 0.4043 - accuracy: 0.8794\n",
            "Epoch 42/50\n",
            "498/498 [==============================] - 5s 10ms/step - loss: 0.4032 - accuracy: 0.8792\n",
            "Epoch 43/50\n",
            "498/498 [==============================] - 7s 13ms/step - loss: 0.3963 - accuracy: 0.8784\n",
            "Epoch 44/50\n",
            "498/498 [==============================] - 5s 11ms/step - loss: 0.3887 - accuracy: 0.8793\n",
            "Epoch 45/50\n",
            "498/498 [==============================] - 5s 10ms/step - loss: 0.3827 - accuracy: 0.8789\n",
            "Epoch 46/50\n",
            "498/498 [==============================] - 7s 14ms/step - loss: 0.3786 - accuracy: 0.8802\n",
            "Epoch 47/50\n",
            "498/498 [==============================] - 5s 10ms/step - loss: 0.3744 - accuracy: 0.8799\n",
            "Epoch 48/50\n",
            "498/498 [==============================] - 5s 11ms/step - loss: 0.3740 - accuracy: 0.8792\n",
            "Epoch 49/50\n",
            "498/498 [==============================] - 7s 13ms/step - loss: 0.3750 - accuracy: 0.8798\n",
            "Epoch 50/50\n",
            "498/498 [==============================] - 5s 10ms/step - loss: 0.3741 - accuracy: 0.8771\n"
          ]
        }
      ],
      "source": [
        "# Get the untrained model\n",
        "model = create_model(total_words, max_sequence_len)\n",
        "\n",
        "# Train the model\n",
        "history = model.fit(features, labels, epochs=50, verbose=1)"
      ]
    },
    {
      "cell_type": "code",
      "execution_count": null,
      "metadata": {
        "colab": {
          "base_uri": "https://localhost:8080/",
          "height": 887
        },
        "id": "1fXTEO3GJ282",
        "outputId": "1a711141-4505-4046-9356-01c1b568def3"
      },
      "outputs": [
        {
          "output_type": "display_data",
          "data": {
            "text/plain": [
              "<Figure size 640x480 with 1 Axes>"
            ],
            "image/png": "[encoded data removed]"
          },
          "metadata": {}
        },
        {
          "output_type": "display_data",
          "data": {
            "text/plain": [
              "<Figure size 640x480 with 1 Axes>"
            ],
            "image/png": "[encoded data removed]"
          },
          "metadata": {}
        }
      ],
      "source": [
        "# Take a look at the training curves of your model\n",
        "\n",
        "acc = history.history['accuracy']\n",
        "loss = history.history['loss']\n",
        "\n",
        "epochs = range(len(acc))\n",
        "\n",
        "plt.plot(epochs, acc, 'b', label='Training accuracy')\n",
        "plt.title('Training accuracy')\n",
        "\n",
        "plt.figure()\n",
        "\n",
        "plt.plot(epochs, loss, 'b', label='Training Loss')\n",
        "plt.title('Training loss')\n",
        "plt.legend()\n",
        "\n",
        "plt.show()"
      ]
    },
    {
      "cell_type": "markdown",
      "metadata": {
        "id": "OjvED5A3qrn2"
      },
      "source": [
        "Download the `history.pkl` file which contains the information of the training history of your model and will be used to compute your grade. You can download this file by running the cell below:"
      ]
    },
    {
      "cell_type": "code",
      "execution_count": null,
      "metadata": {
        "colab": {
          "base_uri": "https://localhost:8080/",
          "height": 17
        },
        "id": "9QRG73l6qE-c",
        "outputId": "8807fc83-84ec-4dc7-bc12-9893a6e55264"
      },
      "outputs": [
        {
          "output_type": "display_data",
          "data": {
            "text/plain": [
              "<IPython.core.display.Javascript object>"
            ],
            "application/javascript": [
              "\n",
              "    async function download(id, filename, size) {\n",
              "      if (!google.colab.kernel.accessAllowed) {\n",
              "        return;\n",
              "      }\n",
              "      const div = document.createElement('div');\n",
              "      const label = document.createElement('label');\n",
              "      label.textContent = `Downloading \"${filename}\": `;\n",
              "      div.appendChild(label);\n",
              "      const progress = document.createElement('progress');\n",
              "      progress.max = size;\n",
              "      div.appendChild(progress);\n",
              "      document.body.appendChild(div);\n",
              "\n",
              "      const buffers = [];\n",
              "      let downloaded = 0;\n",
              "\n",
              "      const channel = await google.colab.kernel.comms.open(id);\n",
              "      // Send a message to notify the kernel that we're ready.\n",
              "      channel.send({})\n",
              "\n",
              "      for await (const message of channel.messages) {\n",
              "        // Send a message to notify the kernel that we're ready.\n",
              "        channel.send({})\n",
              "        if (message.buffers) {\n",
              "          for (const buffer of message.buffers) {\n",
              "            buffers.push(buffer);\n",
              "            downloaded += buffer.byteLength;\n",
              "            progress.value = downloaded;\n",
              "          }\n",
              "        }\n",
              "      }\n",
              "      const blob = new Blob(buffers, {type: 'application/binary'});\n",
              "      const a = document.createElement('a');\n",
              "      a.href = window.URL.createObjectURL(blob);\n",
              "      a.download = filename;\n",
              "      div.appendChild(a);\n",
              "      a.click();\n",
              "      div.remove();\n",
              "    }\n",
              "  "
            ]
          },
          "metadata": {}
        },
        {
          "output_type": "display_data",
          "data": {
            "text/plain": [
              "<IPython.core.display.Javascript object>"
            ],
            "application/javascript": [
              "download(\"download_6191336b-63f2-42eb-9d31-f1df3a9b73b7\", \"history.pkl\", 942)"
            ]
          },
          "metadata": {}
        }
      ],
      "source": [
        "def download_history():\n",
        "  import pickle\n",
        "  from google.colab import files\n",
        "\n",
        "  with open('history.pkl', 'wb') as f:\n",
        "    pickle.dump(history.history, f)\n",
        "\n",
        "  files.download('history.pkl')\n",
        "\n",
        "download_history()"
      ]
    },
    {
      "cell_type": "markdown",
      "metadata": {
        "id": "wdsMszk9zBs_"
      },
      "source": [
        "## See our model in action\n",
        "\n",
        "After all our work it is finally time to see our model generating text.\n",
        "\n",
        "Run the cell below to generate the next 100 words of a seed text."
      ]
    },
    {
      "cell_type": "code",
      "execution_count": null,
      "metadata": {
        "colab": {
          "base_uri": "https://localhost:8080/"
        },
        "id": "6Vc6PHgxa6Hm",
        "outputId": "23e88f52-8c34-48f6-e1c0-cd33f70df20c"
      },
      "outputs": [
        {
          "output_type": "stream",
          "name": "stdout",
          "text": [
            "what is that the heir of slytherin has an end and slytherin heir\n"
          ]
        }
      ],
      "source": [
        "seed_text = \"what is that\"\n",
        "next_words = 10\n",
        "\n",
        "for _ in range(next_words):\n",
        "\t# Convert the text into sequences\n",
        "\ttoken_list = tokenizer.texts_to_sequences([seed_text])[0]\n",
        "\t# Pad the sequences\n",
        "\ttoken_list = pad_sequences([token_list], maxlen=max_sequence_len-1, padding='pre')\n",
        "\t# Get the probabilities of predicting a word\n",
        "\tpredicted = model.predict(token_list, verbose=0)\n",
        "\t# Choose the next word based on the maximum probability\n",
        "\tpredicted = np.argmax(predicted, axis=-1).item()\n",
        "\t# Get the actual word from the word index\n",
        "\toutput_word = tokenizer.index_word[predicted]\n",
        "\t# Append to the current text\n",
        "\tseed_text += \" \" + output_word\n",
        "\n",
        "print(seed_text)"
      ]
    }
  ],
  "metadata": {
    "accelerator": "GPU",
    "colab": {
      "provenance": []
    },
    "jupytext": {
      "main_language": "python"
    },
    "kernelspec": {
      "display_name": "Python 3",
      "name": "python3"
    },
    "language_info": {
      "codemirror_mode": {
        "name": "ipython",
        "version": 3
      },
      "file_extension": ".py",
      "mimetype": "text/x-python",
      "name": "python",
      "nbconvert_exporter": "python",
      "pygments_lexer": "ipython3",
      "version": "3.9.13"
    }
  },
  "nbformat": 4,
  "nbformat_minor": 0
}